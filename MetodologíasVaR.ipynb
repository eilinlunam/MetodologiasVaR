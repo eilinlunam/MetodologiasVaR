{
  "nbformat": 4,
  "nbformat_minor": 0,
  "metadata": {
    "colab": {
      "name": "MetodologíasVaR.ipynb",
      "provenance": [],
      "collapsed_sections": [],
      "include_colab_link": true
    },
    "kernelspec": {
      "display_name": "Python 3",
      "name": "python3"
    },
    "widgets": {
      "application/vnd.jupyter.widget-state+json": {
        "a5aaf0596437467e8c06a4710235dabd": {
          "model_module": "@jupyter-widgets/controls",
          "model_name": "DropdownModel",
          "state": {
            "_options_labels": [
              "VaR Delta Normal",
              "VaR Simulacion Historica Univariada",
              "VaR Delta T"
            ],
            "_view_name": "DropdownView",
            "style": "IPY_MODEL_b16ad201961044f38d8ec88e064162af",
            "_dom_classes": [],
            "description": "Metodología:",
            "_model_name": "DropdownModel",
            "index": 2,
            "_view_module": "@jupyter-widgets/controls",
            "_model_module_version": "1.5.0",
            "_view_count": null,
            "disabled": false,
            "_view_module_version": "1.5.0",
            "description_tooltip": null,
            "_model_module": "@jupyter-widgets/controls",
            "layout": "IPY_MODEL_199f3c36c2b5426d8c767f0730e954b0"
          }
        },
        "b16ad201961044f38d8ec88e064162af": {
          "model_module": "@jupyter-widgets/controls",
          "model_name": "DescriptionStyleModel",
          "state": {
            "_view_name": "StyleView",
            "_model_name": "DescriptionStyleModel",
            "description_width": "",
            "_view_module": "@jupyter-widgets/base",
            "_model_module_version": "1.5.0",
            "_view_count": null,
            "_view_module_version": "1.2.0",
            "_model_module": "@jupyter-widgets/controls"
          }
        },
        "199f3c36c2b5426d8c767f0730e954b0": {
          "model_module": "@jupyter-widgets/base",
          "model_name": "LayoutModel",
          "state": {
            "_view_name": "LayoutView",
            "grid_template_rows": null,
            "right": null,
            "justify_content": null,
            "_view_module": "@jupyter-widgets/base",
            "overflow": null,
            "_model_module_version": "1.2.0",
            "_view_count": null,
            "flex_flow": null,
            "width": null,
            "min_width": null,
            "border": null,
            "align_items": null,
            "bottom": null,
            "_model_module": "@jupyter-widgets/base",
            "top": null,
            "grid_column": null,
            "overflow_y": null,
            "overflow_x": null,
            "grid_auto_flow": null,
            "grid_area": null,
            "grid_template_columns": null,
            "flex": null,
            "_model_name": "LayoutModel",
            "justify_items": null,
            "grid_row": null,
            "max_height": null,
            "align_content": null,
            "visibility": null,
            "align_self": null,
            "height": null,
            "min_height": null,
            "padding": null,
            "grid_auto_rows": null,
            "grid_gap": null,
            "max_width": null,
            "order": null,
            "_view_module_version": "1.2.0",
            "grid_template_areas": null,
            "object_position": null,
            "object_fit": null,
            "grid_auto_columns": null,
            "margin": null,
            "display": null,
            "left": null
          }
        },
        "d9587a2586f14ee29d5dcada995867f7": {
          "model_module": "@jupyter-widgets/controls",
          "model_name": "DropdownModel",
          "state": {
            "_options_labels": [
              "BA",
              "AMZN",
              "AAPL",
              "AAL",
              "GS"
            ],
            "_view_name": "DropdownView",
            "style": "IPY_MODEL_378418142a704f9c869976f21c3f2652",
            "_dom_classes": [],
            "description": "Acción:",
            "_model_name": "DropdownModel",
            "index": 0,
            "_view_module": "@jupyter-widgets/controls",
            "_model_module_version": "1.5.0",
            "_view_count": null,
            "disabled": false,
            "_view_module_version": "1.5.0",
            "description_tooltip": null,
            "_model_module": "@jupyter-widgets/controls",
            "layout": "IPY_MODEL_984cd39b810c4b04a2cc8cab9d6df68b"
          }
        },
        "378418142a704f9c869976f21c3f2652": {
          "model_module": "@jupyter-widgets/controls",
          "model_name": "DescriptionStyleModel",
          "state": {
            "_view_name": "StyleView",
            "_model_name": "DescriptionStyleModel",
            "description_width": "",
            "_view_module": "@jupyter-widgets/base",
            "_model_module_version": "1.5.0",
            "_view_count": null,
            "_view_module_version": "1.2.0",
            "_model_module": "@jupyter-widgets/controls"
          }
        },
        "984cd39b810c4b04a2cc8cab9d6df68b": {
          "model_module": "@jupyter-widgets/base",
          "model_name": "LayoutModel",
          "state": {
            "_view_name": "LayoutView",
            "grid_template_rows": null,
            "right": null,
            "justify_content": null,
            "_view_module": "@jupyter-widgets/base",
            "overflow": null,
            "_model_module_version": "1.2.0",
            "_view_count": null,
            "flex_flow": null,
            "width": null,
            "min_width": null,
            "border": null,
            "align_items": null,
            "bottom": null,
            "_model_module": "@jupyter-widgets/base",
            "top": null,
            "grid_column": null,
            "overflow_y": null,
            "overflow_x": null,
            "grid_auto_flow": null,
            "grid_area": null,
            "grid_template_columns": null,
            "flex": null,
            "_model_name": "LayoutModel",
            "justify_items": null,
            "grid_row": null,
            "max_height": null,
            "align_content": null,
            "visibility": null,
            "align_self": null,
            "height": null,
            "min_height": null,
            "padding": null,
            "grid_auto_rows": null,
            "grid_gap": null,
            "max_width": null,
            "order": null,
            "_view_module_version": "1.2.0",
            "grid_template_areas": null,
            "object_position": null,
            "object_fit": null,
            "grid_auto_columns": null,
            "margin": null,
            "display": null,
            "left": null
          }
        },
        "c2ad07e33d304480a0110d6fe7e4b5c6": {
          "model_module": "@jupyter-widgets/controls",
          "model_name": "ButtonModel",
          "state": {
            "_view_name": "ButtonView",
            "style": "IPY_MODEL_d538c7f2dde747378826451d8dac01c3",
            "_dom_classes": [],
            "description": "Tabla",
            "_model_name": "ButtonModel",
            "button_style": "",
            "_view_module": "@jupyter-widgets/controls",
            "_model_module_version": "1.5.0",
            "tooltip": "",
            "_view_count": null,
            "disabled": false,
            "_view_module_version": "1.5.0",
            "layout": "IPY_MODEL_4553fb42893844a386200abfd65b6bf9",
            "_model_module": "@jupyter-widgets/controls",
            "icon": ""
          }
        },
        "d538c7f2dde747378826451d8dac01c3": {
          "model_module": "@jupyter-widgets/controls",
          "model_name": "ButtonStyleModel",
          "state": {
            "_view_name": "StyleView",
            "_model_name": "ButtonStyleModel",
            "_view_module": "@jupyter-widgets/base",
            "_model_module_version": "1.5.0",
            "_view_count": null,
            "button_color": null,
            "font_weight": "",
            "_view_module_version": "1.2.0",
            "_model_module": "@jupyter-widgets/controls"
          }
        },
        "4553fb42893844a386200abfd65b6bf9": {
          "model_module": "@jupyter-widgets/base",
          "model_name": "LayoutModel",
          "state": {
            "_view_name": "LayoutView",
            "grid_template_rows": null,
            "right": null,
            "justify_content": null,
            "_view_module": "@jupyter-widgets/base",
            "overflow": null,
            "_model_module_version": "1.2.0",
            "_view_count": null,
            "flex_flow": null,
            "width": null,
            "min_width": null,
            "border": null,
            "align_items": null,
            "bottom": null,
            "_model_module": "@jupyter-widgets/base",
            "top": null,
            "grid_column": null,
            "overflow_y": null,
            "overflow_x": null,
            "grid_auto_flow": null,
            "grid_area": null,
            "grid_template_columns": null,
            "flex": null,
            "_model_name": "LayoutModel",
            "justify_items": null,
            "grid_row": null,
            "max_height": null,
            "align_content": null,
            "visibility": null,
            "align_self": null,
            "height": null,
            "min_height": null,
            "padding": null,
            "grid_auto_rows": null,
            "grid_gap": null,
            "max_width": null,
            "order": null,
            "_view_module_version": "1.2.0",
            "grid_template_areas": null,
            "object_position": null,
            "object_fit": null,
            "grid_auto_columns": null,
            "margin": null,
            "display": null,
            "left": null
          }
        },
        "c7c67f99772d47f4a48a7297dd9ca560": {
          "model_module": "@jupyter-widgets/controls",
          "model_name": "ButtonModel",
          "state": {
            "_view_name": "ButtonView",
            "style": "IPY_MODEL_e84df747d5554ec9beae5653b1c2a4a3",
            "_dom_classes": [],
            "description": "Gráfico",
            "_model_name": "ButtonModel",
            "button_style": "",
            "_view_module": "@jupyter-widgets/controls",
            "_model_module_version": "1.5.0",
            "tooltip": "",
            "_view_count": null,
            "disabled": false,
            "_view_module_version": "1.5.0",
            "layout": "IPY_MODEL_7b6d662d7dc6401c8f4fe69536918f03",
            "_model_module": "@jupyter-widgets/controls",
            "icon": ""
          }
        },
        "e84df747d5554ec9beae5653b1c2a4a3": {
          "model_module": "@jupyter-widgets/controls",
          "model_name": "ButtonStyleModel",
          "state": {
            "_view_name": "StyleView",
            "_model_name": "ButtonStyleModel",
            "_view_module": "@jupyter-widgets/base",
            "_model_module_version": "1.5.0",
            "_view_count": null,
            "button_color": null,
            "font_weight": "",
            "_view_module_version": "1.2.0",
            "_model_module": "@jupyter-widgets/controls"
          }
        },
        "7b6d662d7dc6401c8f4fe69536918f03": {
          "model_module": "@jupyter-widgets/base",
          "model_name": "LayoutModel",
          "state": {
            "_view_name": "LayoutView",
            "grid_template_rows": null,
            "right": null,
            "justify_content": null,
            "_view_module": "@jupyter-widgets/base",
            "overflow": null,
            "_model_module_version": "1.2.0",
            "_view_count": null,
            "flex_flow": null,
            "width": null,
            "min_width": null,
            "border": null,
            "align_items": null,
            "bottom": null,
            "_model_module": "@jupyter-widgets/base",
            "top": null,
            "grid_column": null,
            "overflow_y": null,
            "overflow_x": null,
            "grid_auto_flow": null,
            "grid_area": null,
            "grid_template_columns": null,
            "flex": null,
            "_model_name": "LayoutModel",
            "justify_items": null,
            "grid_row": null,
            "max_height": null,
            "align_content": null,
            "visibility": null,
            "align_self": null,
            "height": null,
            "min_height": null,
            "padding": null,
            "grid_auto_rows": null,
            "grid_gap": null,
            "max_width": null,
            "order": null,
            "_view_module_version": "1.2.0",
            "grid_template_areas": null,
            "object_position": null,
            "object_fit": null,
            "grid_auto_columns": null,
            "margin": null,
            "display": null,
            "left": null
          }
        },
        "425fe35c39994cadbb849508f8b0f7c0": {
          "model_module": "@jupyter-widgets/controls",
          "model_name": "ButtonModel",
          "state": {
            "_view_name": "ButtonView",
            "style": "IPY_MODEL_1aa5537507f9441c973ab633d710d1da",
            "_dom_classes": [],
            "description": "Descargar archivo excel",
            "_model_name": "ButtonModel",
            "button_style": "",
            "_view_module": "@jupyter-widgets/controls",
            "_model_module_version": "1.5.0",
            "tooltip": "",
            "_view_count": null,
            "disabled": false,
            "_view_module_version": "1.5.0",
            "layout": "IPY_MODEL_b9920ab288304297831049ac23a49d69",
            "_model_module": "@jupyter-widgets/controls",
            "icon": ""
          }
        },
        "1aa5537507f9441c973ab633d710d1da": {
          "model_module": "@jupyter-widgets/controls",
          "model_name": "ButtonStyleModel",
          "state": {
            "_view_name": "StyleView",
            "_model_name": "ButtonStyleModel",
            "_view_module": "@jupyter-widgets/base",
            "_model_module_version": "1.5.0",
            "_view_count": null,
            "button_color": null,
            "font_weight": "",
            "_view_module_version": "1.2.0",
            "_model_module": "@jupyter-widgets/controls"
          }
        },
        "b9920ab288304297831049ac23a49d69": {
          "model_module": "@jupyter-widgets/base",
          "model_name": "LayoutModel",
          "state": {
            "_view_name": "LayoutView",
            "grid_template_rows": null,
            "right": null,
            "justify_content": null,
            "_view_module": "@jupyter-widgets/base",
            "overflow": null,
            "_model_module_version": "1.2.0",
            "_view_count": null,
            "flex_flow": null,
            "width": null,
            "min_width": null,
            "border": null,
            "align_items": null,
            "bottom": null,
            "_model_module": "@jupyter-widgets/base",
            "top": null,
            "grid_column": null,
            "overflow_y": null,
            "overflow_x": null,
            "grid_auto_flow": null,
            "grid_area": null,
            "grid_template_columns": null,
            "flex": null,
            "_model_name": "LayoutModel",
            "justify_items": null,
            "grid_row": null,
            "max_height": null,
            "align_content": null,
            "visibility": null,
            "align_self": null,
            "height": null,
            "min_height": null,
            "padding": null,
            "grid_auto_rows": null,
            "grid_gap": null,
            "max_width": null,
            "order": null,
            "_view_module_version": "1.2.0",
            "grid_template_areas": null,
            "object_position": null,
            "object_fit": null,
            "grid_auto_columns": null,
            "margin": null,
            "display": null,
            "left": null
          }
        },
        "eb041f6b94744c0bac1787956cbc01e1": {
          "model_module": "@jupyter-widgets/output",
          "model_name": "OutputModel",
          "state": {
            "_view_name": "OutputView",
            "msg_id": "",
            "_dom_classes": [],
            "_model_name": "OutputModel",
            "outputs": [
              {
                "output_type": "display_data",
                "metadata": {
                  "tags": [],
                  "needs_background": "light"
                },
                "image/png": "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\n",
                "text/plain": "<Figure size 600x400 with 1 Axes>"
              }
            ],
            "_view_module": "@jupyter-widgets/output",
            "_model_module_version": "1.0.0",
            "_view_count": null,
            "_view_module_version": "1.0.0",
            "layout": "IPY_MODEL_05940ec3494049798cda0f4c886fb429",
            "_model_module": "@jupyter-widgets/output"
          }
        },
        "05940ec3494049798cda0f4c886fb429": {
          "model_module": "@jupyter-widgets/base",
          "model_name": "LayoutModel",
          "state": {
            "_view_name": "LayoutView",
            "grid_template_rows": null,
            "right": null,
            "justify_content": null,
            "_view_module": "@jupyter-widgets/base",
            "overflow": null,
            "_model_module_version": "1.2.0",
            "_view_count": null,
            "flex_flow": null,
            "width": null,
            "min_width": null,
            "border": null,
            "align_items": null,
            "bottom": null,
            "_model_module": "@jupyter-widgets/base",
            "top": null,
            "grid_column": null,
            "overflow_y": null,
            "overflow_x": null,
            "grid_auto_flow": null,
            "grid_area": null,
            "grid_template_columns": null,
            "flex": null,
            "_model_name": "LayoutModel",
            "justify_items": null,
            "grid_row": null,
            "max_height": null,
            "align_content": null,
            "visibility": null,
            "align_self": null,
            "height": null,
            "min_height": null,
            "padding": null,
            "grid_auto_rows": null,
            "grid_gap": null,
            "max_width": null,
            "order": null,
            "_view_module_version": "1.2.0",
            "grid_template_areas": null,
            "object_position": null,
            "object_fit": null,
            "grid_auto_columns": null,
            "margin": null,
            "display": null,
            "left": null
          }
        },
        "e04aa447b27f431cb728c678229e9a8a": {
          "model_module": "@jupyter-widgets/controls",
          "model_name": "DropdownModel",
          "state": {
            "_options_labels": [
              "VaR Suma Simple",
              "VaR Baricentro EWMA Normal",
              "VaR Baricentro Promedio Normal",
              "VaR Simulación Histórica",
              "VaR Baricentro Promedio T",
              "VaR Baricentro EWMA T",
              "VaR Matriz VarCovar"
            ],
            "_view_name": "DropdownView",
            "style": "IPY_MODEL_0404946070254a51a9305554208e8926",
            "_dom_classes": [],
            "description": "Metodología:",
            "_model_name": "DropdownModel",
            "index": 0,
            "_view_module": "@jupyter-widgets/controls",
            "_model_module_version": "1.5.0",
            "_view_count": null,
            "disabled": false,
            "_view_module_version": "1.5.0",
            "description_tooltip": null,
            "_model_module": "@jupyter-widgets/controls",
            "layout": "IPY_MODEL_ef63d9050d94425aa20daf44bb73874d"
          }
        },
        "0404946070254a51a9305554208e8926": {
          "model_module": "@jupyter-widgets/controls",
          "model_name": "DescriptionStyleModel",
          "state": {
            "_view_name": "StyleView",
            "_model_name": "DescriptionStyleModel",
            "description_width": "",
            "_view_module": "@jupyter-widgets/base",
            "_model_module_version": "1.5.0",
            "_view_count": null,
            "_view_module_version": "1.2.0",
            "_model_module": "@jupyter-widgets/controls"
          }
        },
        "ef63d9050d94425aa20daf44bb73874d": {
          "model_module": "@jupyter-widgets/base",
          "model_name": "LayoutModel",
          "state": {
            "_view_name": "LayoutView",
            "grid_template_rows": null,
            "right": null,
            "justify_content": null,
            "_view_module": "@jupyter-widgets/base",
            "overflow": null,
            "_model_module_version": "1.2.0",
            "_view_count": null,
            "flex_flow": null,
            "width": null,
            "min_width": null,
            "border": null,
            "align_items": null,
            "bottom": null,
            "_model_module": "@jupyter-widgets/base",
            "top": null,
            "grid_column": null,
            "overflow_y": null,
            "overflow_x": null,
            "grid_auto_flow": null,
            "grid_area": null,
            "grid_template_columns": null,
            "flex": null,
            "_model_name": "LayoutModel",
            "justify_items": null,
            "grid_row": null,
            "max_height": null,
            "align_content": null,
            "visibility": null,
            "align_self": null,
            "height": null,
            "min_height": null,
            "padding": null,
            "grid_auto_rows": null,
            "grid_gap": null,
            "max_width": null,
            "order": null,
            "_view_module_version": "1.2.0",
            "grid_template_areas": null,
            "object_position": null,
            "object_fit": null,
            "grid_auto_columns": null,
            "margin": null,
            "display": null,
            "left": null
          }
        },
        "cc14dd4fff6a4716bc9d94dbb1a58581": {
          "model_module": "@jupyter-widgets/controls",
          "model_name": "ButtonModel",
          "state": {
            "_view_name": "ButtonView",
            "style": "IPY_MODEL_7903580c9a2c4140ae3bf7f38f50ad65",
            "_dom_classes": [],
            "description": "Tabla",
            "_model_name": "ButtonModel",
            "button_style": "",
            "_view_module": "@jupyter-widgets/controls",
            "_model_module_version": "1.5.0",
            "tooltip": "",
            "_view_count": null,
            "disabled": false,
            "_view_module_version": "1.5.0",
            "layout": "IPY_MODEL_0db2f1596b3e4dd0859990250b14d423",
            "_model_module": "@jupyter-widgets/controls",
            "icon": ""
          }
        },
        "7903580c9a2c4140ae3bf7f38f50ad65": {
          "model_module": "@jupyter-widgets/controls",
          "model_name": "ButtonStyleModel",
          "state": {
            "_view_name": "StyleView",
            "_model_name": "ButtonStyleModel",
            "_view_module": "@jupyter-widgets/base",
            "_model_module_version": "1.5.0",
            "_view_count": null,
            "button_color": null,
            "font_weight": "",
            "_view_module_version": "1.2.0",
            "_model_module": "@jupyter-widgets/controls"
          }
        },
        "0db2f1596b3e4dd0859990250b14d423": {
          "model_module": "@jupyter-widgets/base",
          "model_name": "LayoutModel",
          "state": {
            "_view_name": "LayoutView",
            "grid_template_rows": null,
            "right": null,
            "justify_content": null,
            "_view_module": "@jupyter-widgets/base",
            "overflow": null,
            "_model_module_version": "1.2.0",
            "_view_count": null,
            "flex_flow": null,
            "width": null,
            "min_width": null,
            "border": null,
            "align_items": null,
            "bottom": null,
            "_model_module": "@jupyter-widgets/base",
            "top": null,
            "grid_column": null,
            "overflow_y": null,
            "overflow_x": null,
            "grid_auto_flow": null,
            "grid_area": null,
            "grid_template_columns": null,
            "flex": null,
            "_model_name": "LayoutModel",
            "justify_items": null,
            "grid_row": null,
            "max_height": null,
            "align_content": null,
            "visibility": null,
            "align_self": null,
            "height": null,
            "min_height": null,
            "padding": null,
            "grid_auto_rows": null,
            "grid_gap": null,
            "max_width": null,
            "order": null,
            "_view_module_version": "1.2.0",
            "grid_template_areas": null,
            "object_position": null,
            "object_fit": null,
            "grid_auto_columns": null,
            "margin": null,
            "display": null,
            "left": null
          }
        },
        "a6b27f8aebb8431797b161b896845906": {
          "model_module": "@jupyter-widgets/controls",
          "model_name": "ButtonModel",
          "state": {
            "_view_name": "ButtonView",
            "style": "IPY_MODEL_3b15148658e04b848fb1b1eb92f4510a",
            "_dom_classes": [],
            "description": "Gráfico",
            "_model_name": "ButtonModel",
            "button_style": "",
            "_view_module": "@jupyter-widgets/controls",
            "_model_module_version": "1.5.0",
            "tooltip": "",
            "_view_count": null,
            "disabled": false,
            "_view_module_version": "1.5.0",
            "layout": "IPY_MODEL_ddc3f677b9f241ccb4e752318d9d5937",
            "_model_module": "@jupyter-widgets/controls",
            "icon": ""
          }
        },
        "3b15148658e04b848fb1b1eb92f4510a": {
          "model_module": "@jupyter-widgets/controls",
          "model_name": "ButtonStyleModel",
          "state": {
            "_view_name": "StyleView",
            "_model_name": "ButtonStyleModel",
            "_view_module": "@jupyter-widgets/base",
            "_model_module_version": "1.5.0",
            "_view_count": null,
            "button_color": null,
            "font_weight": "",
            "_view_module_version": "1.2.0",
            "_model_module": "@jupyter-widgets/controls"
          }
        },
        "ddc3f677b9f241ccb4e752318d9d5937": {
          "model_module": "@jupyter-widgets/base",
          "model_name": "LayoutModel",
          "state": {
            "_view_name": "LayoutView",
            "grid_template_rows": null,
            "right": null,
            "justify_content": null,
            "_view_module": "@jupyter-widgets/base",
            "overflow": null,
            "_model_module_version": "1.2.0",
            "_view_count": null,
            "flex_flow": null,
            "width": null,
            "min_width": null,
            "border": null,
            "align_items": null,
            "bottom": null,
            "_model_module": "@jupyter-widgets/base",
            "top": null,
            "grid_column": null,
            "overflow_y": null,
            "overflow_x": null,
            "grid_auto_flow": null,
            "grid_area": null,
            "grid_template_columns": null,
            "flex": null,
            "_model_name": "LayoutModel",
            "justify_items": null,
            "grid_row": null,
            "max_height": null,
            "align_content": null,
            "visibility": null,
            "align_self": null,
            "height": null,
            "min_height": null,
            "padding": null,
            "grid_auto_rows": null,
            "grid_gap": null,
            "max_width": null,
            "order": null,
            "_view_module_version": "1.2.0",
            "grid_template_areas": null,
            "object_position": null,
            "object_fit": null,
            "grid_auto_columns": null,
            "margin": null,
            "display": null,
            "left": null
          }
        },
        "9cbc4db84be74931ba821a61b32a1dad": {
          "model_module": "@jupyter-widgets/controls",
          "model_name": "ButtonModel",
          "state": {
            "_view_name": "ButtonView",
            "style": "IPY_MODEL_9ad05029d15c433eb78593abf1e0b5ed",
            "_dom_classes": [],
            "description": "Descargar archivo excel",
            "_model_name": "ButtonModel",
            "button_style": "",
            "_view_module": "@jupyter-widgets/controls",
            "_model_module_version": "1.5.0",
            "tooltip": "",
            "_view_count": null,
            "disabled": false,
            "_view_module_version": "1.5.0",
            "layout": "IPY_MODEL_1a8fc835f6ec441fa5f860eef1a6f94c",
            "_model_module": "@jupyter-widgets/controls",
            "icon": ""
          }
        },
        "9ad05029d15c433eb78593abf1e0b5ed": {
          "model_module": "@jupyter-widgets/controls",
          "model_name": "ButtonStyleModel",
          "state": {
            "_view_name": "StyleView",
            "_model_name": "ButtonStyleModel",
            "_view_module": "@jupyter-widgets/base",
            "_model_module_version": "1.5.0",
            "_view_count": null,
            "button_color": null,
            "font_weight": "",
            "_view_module_version": "1.2.0",
            "_model_module": "@jupyter-widgets/controls"
          }
        },
        "1a8fc835f6ec441fa5f860eef1a6f94c": {
          "model_module": "@jupyter-widgets/base",
          "model_name": "LayoutModel",
          "state": {
            "_view_name": "LayoutView",
            "grid_template_rows": null,
            "right": null,
            "justify_content": null,
            "_view_module": "@jupyter-widgets/base",
            "overflow": null,
            "_model_module_version": "1.2.0",
            "_view_count": null,
            "flex_flow": null,
            "width": null,
            "min_width": null,
            "border": null,
            "align_items": null,
            "bottom": null,
            "_model_module": "@jupyter-widgets/base",
            "top": null,
            "grid_column": null,
            "overflow_y": null,
            "overflow_x": null,
            "grid_auto_flow": null,
            "grid_area": null,
            "grid_template_columns": null,
            "flex": null,
            "_model_name": "LayoutModel",
            "justify_items": null,
            "grid_row": null,
            "max_height": null,
            "align_content": null,
            "visibility": null,
            "align_self": null,
            "height": null,
            "min_height": null,
            "padding": null,
            "grid_auto_rows": null,
            "grid_gap": null,
            "max_width": null,
            "order": null,
            "_view_module_version": "1.2.0",
            "grid_template_areas": null,
            "object_position": null,
            "object_fit": null,
            "grid_auto_columns": null,
            "margin": null,
            "display": null,
            "left": null
          }
        },
        "ed93056dcf0b43388109492de6999733": {
          "model_module": "@jupyter-widgets/output",
          "model_name": "OutputModel",
          "state": {
            "_view_name": "OutputView",
            "msg_id": "",
            "_dom_classes": [],
            "_model_name": "OutputModel",
            "outputs": [],
            "_view_module": "@jupyter-widgets/output",
            "_model_module_version": "1.0.0",
            "_view_count": null,
            "_view_module_version": "1.0.0",
            "layout": "IPY_MODEL_0359f1aa00374c2a8611efb7f4647f18",
            "_model_module": "@jupyter-widgets/output"
          }
        },
        "0359f1aa00374c2a8611efb7f4647f18": {
          "model_module": "@jupyter-widgets/base",
          "model_name": "LayoutModel",
          "state": {
            "_view_name": "LayoutView",
            "grid_template_rows": null,
            "right": null,
            "justify_content": null,
            "_view_module": "@jupyter-widgets/base",
            "overflow": null,
            "_model_module_version": "1.2.0",
            "_view_count": null,
            "flex_flow": null,
            "width": null,
            "min_width": null,
            "border": null,
            "align_items": null,
            "bottom": null,
            "_model_module": "@jupyter-widgets/base",
            "top": null,
            "grid_column": null,
            "overflow_y": null,
            "overflow_x": null,
            "grid_auto_flow": null,
            "grid_area": null,
            "grid_template_columns": null,
            "flex": null,
            "_model_name": "LayoutModel",
            "justify_items": null,
            "grid_row": null,
            "max_height": null,
            "align_content": null,
            "visibility": null,
            "align_self": null,
            "height": null,
            "min_height": null,
            "padding": null,
            "grid_auto_rows": null,
            "grid_gap": null,
            "max_width": null,
            "order": null,
            "_view_module_version": "1.2.0",
            "grid_template_areas": null,
            "object_position": null,
            "object_fit": null,
            "grid_auto_columns": null,
            "margin": null,
            "display": null,
            "left": null
          }
        },
        "760f783445ec4177a921fd58d2864925": {
          "model_module": "@jupyter-widgets/controls",
          "model_name": "CheckboxModel",
          "state": {
            "_view_name": "CheckboxView",
            "style": "IPY_MODEL_1141b22389a24b3695d88d71bd14eec4",
            "_dom_classes": [],
            "description": "Rendimientos",
            "_model_name": "CheckboxModel",
            "_view_module": "@jupyter-widgets/controls",
            "_model_module_version": "1.5.0",
            "value": true,
            "_view_count": null,
            "disabled": false,
            "_view_module_version": "1.5.0",
            "indent": true,
            "description_tooltip": null,
            "_model_module": "@jupyter-widgets/controls",
            "layout": "IPY_MODEL_f895f6de2a9b404bb37857c879189dd0"
          }
        },
        "1141b22389a24b3695d88d71bd14eec4": {
          "model_module": "@jupyter-widgets/controls",
          "model_name": "DescriptionStyleModel",
          "state": {
            "_view_name": "StyleView",
            "_model_name": "DescriptionStyleModel",
            "description_width": "",
            "_view_module": "@jupyter-widgets/base",
            "_model_module_version": "1.5.0",
            "_view_count": null,
            "_view_module_version": "1.2.0",
            "_model_module": "@jupyter-widgets/controls"
          }
        },
        "f895f6de2a9b404bb37857c879189dd0": {
          "model_module": "@jupyter-widgets/base",
          "model_name": "LayoutModel",
          "state": {
            "_view_name": "LayoutView",
            "grid_template_rows": null,
            "right": null,
            "justify_content": null,
            "_view_module": "@jupyter-widgets/base",
            "overflow": null,
            "_model_module_version": "1.2.0",
            "_view_count": null,
            "flex_flow": null,
            "width": null,
            "min_width": null,
            "border": null,
            "align_items": null,
            "bottom": null,
            "_model_module": "@jupyter-widgets/base",
            "top": null,
            "grid_column": null,
            "overflow_y": null,
            "overflow_x": null,
            "grid_auto_flow": null,
            "grid_area": null,
            "grid_template_columns": null,
            "flex": null,
            "_model_name": "LayoutModel",
            "justify_items": null,
            "grid_row": null,
            "max_height": null,
            "align_content": null,
            "visibility": null,
            "align_self": null,
            "height": null,
            "min_height": null,
            "padding": null,
            "grid_auto_rows": null,
            "grid_gap": null,
            "max_width": null,
            "order": null,
            "_view_module_version": "1.2.0",
            "grid_template_areas": null,
            "object_position": null,
            "object_fit": null,
            "grid_auto_columns": null,
            "margin": null,
            "display": null,
            "left": null
          }
        },
        "a322c91227604f20baaddb0c698017e1": {
          "model_module": "@jupyter-widgets/controls",
          "model_name": "RadioButtonsModel",
          "state": {
            "_options_labels": [
              "alpha=0.1",
              "alpha=0.05",
              "alpha=0.025",
              "alpha=0.01"
            ],
            "_view_name": "RadioButtonsView",
            "style": "IPY_MODEL_5dbe800921e94ddba94e67121d726a70",
            "_dom_classes": [],
            "description": " ",
            "_model_name": "RadioButtonsModel",
            "index": 0,
            "_view_module": "@jupyter-widgets/controls",
            "_model_module_version": "1.5.0",
            "_view_count": null,
            "disabled": false,
            "_view_module_version": "1.5.0",
            "description_tooltip": null,
            "_model_module": "@jupyter-widgets/controls",
            "layout": "IPY_MODEL_b4b0653eae274108b49af0cf15d620ac"
          }
        },
        "5dbe800921e94ddba94e67121d726a70": {
          "model_module": "@jupyter-widgets/controls",
          "model_name": "DescriptionStyleModel",
          "state": {
            "_view_name": "StyleView",
            "_model_name": "DescriptionStyleModel",
            "description_width": "",
            "_view_module": "@jupyter-widgets/base",
            "_model_module_version": "1.5.0",
            "_view_count": null,
            "_view_module_version": "1.2.0",
            "_model_module": "@jupyter-widgets/controls"
          }
        },
        "b4b0653eae274108b49af0cf15d620ac": {
          "model_module": "@jupyter-widgets/base",
          "model_name": "LayoutModel",
          "state": {
            "_view_name": "LayoutView",
            "grid_template_rows": null,
            "right": null,
            "justify_content": null,
            "_view_module": "@jupyter-widgets/base",
            "overflow": null,
            "_model_module_version": "1.2.0",
            "_view_count": null,
            "flex_flow": null,
            "width": null,
            "min_width": null,
            "border": null,
            "align_items": null,
            "bottom": null,
            "_model_module": "@jupyter-widgets/base",
            "top": null,
            "grid_column": null,
            "overflow_y": null,
            "overflow_x": null,
            "grid_auto_flow": null,
            "grid_area": null,
            "grid_template_columns": null,
            "flex": null,
            "_model_name": "LayoutModel",
            "justify_items": null,
            "grid_row": null,
            "max_height": null,
            "align_content": null,
            "visibility": null,
            "align_self": null,
            "height": null,
            "min_height": null,
            "padding": null,
            "grid_auto_rows": null,
            "grid_gap": null,
            "max_width": null,
            "order": null,
            "_view_module_version": "1.2.0",
            "grid_template_areas": null,
            "object_position": null,
            "object_fit": null,
            "grid_auto_columns": null,
            "margin": null,
            "display": null,
            "left": null
          }
        },
        "0f54c56b635946a684acae1cf0ae47ce": {
          "model_module": "@jupyter-widgets/controls",
          "model_name": "CheckboxModel",
          "state": {
            "_view_name": "CheckboxView",
            "style": "IPY_MODEL_63d8de50dbaf426db06773a89e59d95a",
            "_dom_classes": [],
            "description": "VaR Suma Simple",
            "_model_name": "CheckboxModel",
            "_view_module": "@jupyter-widgets/controls",
            "_model_module_version": "1.5.0",
            "value": true,
            "_view_count": null,
            "disabled": false,
            "_view_module_version": "1.5.0",
            "indent": false,
            "description_tooltip": null,
            "_model_module": "@jupyter-widgets/controls",
            "layout": "IPY_MODEL_d926e96f92cc41ad856c05340732495b"
          }
        },
        "63d8de50dbaf426db06773a89e59d95a": {
          "model_module": "@jupyter-widgets/controls",
          "model_name": "DescriptionStyleModel",
          "state": {
            "_view_name": "StyleView",
            "_model_name": "DescriptionStyleModel",
            "description_width": "",
            "_view_module": "@jupyter-widgets/base",
            "_model_module_version": "1.5.0",
            "_view_count": null,
            "_view_module_version": "1.2.0",
            "_model_module": "@jupyter-widgets/controls"
          }
        },
        "d926e96f92cc41ad856c05340732495b": {
          "model_module": "@jupyter-widgets/base",
          "model_name": "LayoutModel",
          "state": {
            "_view_name": "LayoutView",
            "grid_template_rows": null,
            "right": null,
            "justify_content": null,
            "_view_module": "@jupyter-widgets/base",
            "overflow": null,
            "_model_module_version": "1.2.0",
            "_view_count": null,
            "flex_flow": null,
            "width": null,
            "min_width": null,
            "border": null,
            "align_items": null,
            "bottom": null,
            "_model_module": "@jupyter-widgets/base",
            "top": null,
            "grid_column": null,
            "overflow_y": null,
            "overflow_x": null,
            "grid_auto_flow": null,
            "grid_area": null,
            "grid_template_columns": null,
            "flex": null,
            "_model_name": "LayoutModel",
            "justify_items": null,
            "grid_row": null,
            "max_height": null,
            "align_content": null,
            "visibility": null,
            "align_self": null,
            "height": null,
            "min_height": null,
            "padding": null,
            "grid_auto_rows": null,
            "grid_gap": null,
            "max_width": null,
            "order": null,
            "_view_module_version": "1.2.0",
            "grid_template_areas": null,
            "object_position": null,
            "object_fit": null,
            "grid_auto_columns": null,
            "margin": null,
            "display": null,
            "left": null
          }
        },
        "973318241caa46d2acf2d8aee5ca4026": {
          "model_module": "@jupyter-widgets/controls",
          "model_name": "CheckboxModel",
          "state": {
            "_view_name": "CheckboxView",
            "style": "IPY_MODEL_260dc6d9f7074ca196eac7a5a4a2426c",
            "_dom_classes": [],
            "description": "VaR Simulación Histórica",
            "_model_name": "CheckboxModel",
            "_view_module": "@jupyter-widgets/controls",
            "_model_module_version": "1.5.0",
            "value": true,
            "_view_count": null,
            "disabled": false,
            "_view_module_version": "1.5.0",
            "indent": false,
            "description_tooltip": null,
            "_model_module": "@jupyter-widgets/controls",
            "layout": "IPY_MODEL_bab9fadbcf654174804feab5e44cce87"
          }
        },
        "260dc6d9f7074ca196eac7a5a4a2426c": {
          "model_module": "@jupyter-widgets/controls",
          "model_name": "DescriptionStyleModel",
          "state": {
            "_view_name": "StyleView",
            "_model_name": "DescriptionStyleModel",
            "description_width": "",
            "_view_module": "@jupyter-widgets/base",
            "_model_module_version": "1.5.0",
            "_view_count": null,
            "_view_module_version": "1.2.0",
            "_model_module": "@jupyter-widgets/controls"
          }
        },
        "bab9fadbcf654174804feab5e44cce87": {
          "model_module": "@jupyter-widgets/base",
          "model_name": "LayoutModel",
          "state": {
            "_view_name": "LayoutView",
            "grid_template_rows": null,
            "right": null,
            "justify_content": null,
            "_view_module": "@jupyter-widgets/base",
            "overflow": null,
            "_model_module_version": "1.2.0",
            "_view_count": null,
            "flex_flow": null,
            "width": null,
            "min_width": null,
            "border": null,
            "align_items": null,
            "bottom": null,
            "_model_module": "@jupyter-widgets/base",
            "top": null,
            "grid_column": null,
            "overflow_y": null,
            "overflow_x": null,
            "grid_auto_flow": null,
            "grid_area": null,
            "grid_template_columns": null,
            "flex": null,
            "_model_name": "LayoutModel",
            "justify_items": null,
            "grid_row": null,
            "max_height": null,
            "align_content": null,
            "visibility": null,
            "align_self": null,
            "height": null,
            "min_height": null,
            "padding": null,
            "grid_auto_rows": null,
            "grid_gap": null,
            "max_width": null,
            "order": null,
            "_view_module_version": "1.2.0",
            "grid_template_areas": null,
            "object_position": null,
            "object_fit": null,
            "grid_auto_columns": null,
            "margin": null,
            "display": null,
            "left": null
          }
        },
        "9053463d564b4b2882f8c3978c361961": {
          "model_module": "@jupyter-widgets/controls",
          "model_name": "CheckboxModel",
          "state": {
            "_view_name": "CheckboxView",
            "style": "IPY_MODEL_64738d9e37cb49758523cb91b2a3ceb7",
            "_dom_classes": [],
            "description": "VaR Baricentro Promedio Normal",
            "_model_name": "CheckboxModel",
            "_view_module": "@jupyter-widgets/controls",
            "_model_module_version": "1.5.0",
            "value": true,
            "_view_count": null,
            "disabled": false,
            "_view_module_version": "1.5.0",
            "indent": false,
            "description_tooltip": null,
            "_model_module": "@jupyter-widgets/controls",
            "layout": "IPY_MODEL_96ca5c06f273405abf5b7ecc8d164c49"
          }
        },
        "64738d9e37cb49758523cb91b2a3ceb7": {
          "model_module": "@jupyter-widgets/controls",
          "model_name": "DescriptionStyleModel",
          "state": {
            "_view_name": "StyleView",
            "_model_name": "DescriptionStyleModel",
            "description_width": "",
            "_view_module": "@jupyter-widgets/base",
            "_model_module_version": "1.5.0",
            "_view_count": null,
            "_view_module_version": "1.2.0",
            "_model_module": "@jupyter-widgets/controls"
          }
        },
        "96ca5c06f273405abf5b7ecc8d164c49": {
          "model_module": "@jupyter-widgets/base",
          "model_name": "LayoutModel",
          "state": {
            "_view_name": "LayoutView",
            "grid_template_rows": null,
            "right": null,
            "justify_content": null,
            "_view_module": "@jupyter-widgets/base",
            "overflow": null,
            "_model_module_version": "1.2.0",
            "_view_count": null,
            "flex_flow": null,
            "width": null,
            "min_width": null,
            "border": null,
            "align_items": null,
            "bottom": null,
            "_model_module": "@jupyter-widgets/base",
            "top": null,
            "grid_column": null,
            "overflow_y": null,
            "overflow_x": null,
            "grid_auto_flow": null,
            "grid_area": null,
            "grid_template_columns": null,
            "flex": null,
            "_model_name": "LayoutModel",
            "justify_items": null,
            "grid_row": null,
            "max_height": null,
            "align_content": null,
            "visibility": null,
            "align_self": null,
            "height": null,
            "min_height": null,
            "padding": null,
            "grid_auto_rows": null,
            "grid_gap": null,
            "max_width": null,
            "order": null,
            "_view_module_version": "1.2.0",
            "grid_template_areas": null,
            "object_position": null,
            "object_fit": null,
            "grid_auto_columns": null,
            "margin": null,
            "display": null,
            "left": null
          }
        },
        "6c8c6eeecac54c93938dca9a09d5cd77": {
          "model_module": "@jupyter-widgets/controls",
          "model_name": "CheckboxModel",
          "state": {
            "_view_name": "CheckboxView",
            "style": "IPY_MODEL_e785eb10bbc24b2e84f040502d4b6aa5",
            "_dom_classes": [],
            "description": "VaR Baricentro EWMA Normal",
            "_model_name": "CheckboxModel",
            "_view_module": "@jupyter-widgets/controls",
            "_model_module_version": "1.5.0",
            "value": true,
            "_view_count": null,
            "disabled": false,
            "_view_module_version": "1.5.0",
            "indent": false,
            "description_tooltip": null,
            "_model_module": "@jupyter-widgets/controls",
            "layout": "IPY_MODEL_1b89ae7dc35e42e8b3cae5fb7870b969"
          }
        },
        "e785eb10bbc24b2e84f040502d4b6aa5": {
          "model_module": "@jupyter-widgets/controls",
          "model_name": "DescriptionStyleModel",
          "state": {
            "_view_name": "StyleView",
            "_model_name": "DescriptionStyleModel",
            "description_width": "",
            "_view_module": "@jupyter-widgets/base",
            "_model_module_version": "1.5.0",
            "_view_count": null,
            "_view_module_version": "1.2.0",
            "_model_module": "@jupyter-widgets/controls"
          }
        },
        "1b89ae7dc35e42e8b3cae5fb7870b969": {
          "model_module": "@jupyter-widgets/base",
          "model_name": "LayoutModel",
          "state": {
            "_view_name": "LayoutView",
            "grid_template_rows": null,
            "right": null,
            "justify_content": null,
            "_view_module": "@jupyter-widgets/base",
            "overflow": null,
            "_model_module_version": "1.2.0",
            "_view_count": null,
            "flex_flow": null,
            "width": null,
            "min_width": null,
            "border": null,
            "align_items": null,
            "bottom": null,
            "_model_module": "@jupyter-widgets/base",
            "top": null,
            "grid_column": null,
            "overflow_y": null,
            "overflow_x": null,
            "grid_auto_flow": null,
            "grid_area": null,
            "grid_template_columns": null,
            "flex": null,
            "_model_name": "LayoutModel",
            "justify_items": null,
            "grid_row": null,
            "max_height": null,
            "align_content": null,
            "visibility": null,
            "align_self": null,
            "height": null,
            "min_height": null,
            "padding": null,
            "grid_auto_rows": null,
            "grid_gap": null,
            "max_width": null,
            "order": null,
            "_view_module_version": "1.2.0",
            "grid_template_areas": null,
            "object_position": null,
            "object_fit": null,
            "grid_auto_columns": null,
            "margin": null,
            "display": null,
            "left": null
          }
        },
        "cf60618a609f4f50b46706fdfdb57731": {
          "model_module": "@jupyter-widgets/controls",
          "model_name": "CheckboxModel",
          "state": {
            "_view_name": "CheckboxView",
            "style": "IPY_MODEL_ba2f376485e54a58a31f91c848cd50d2",
            "_dom_classes": [],
            "description": "VaR Baricentro Promedio T",
            "_model_name": "CheckboxModel",
            "_view_module": "@jupyter-widgets/controls",
            "_model_module_version": "1.5.0",
            "value": true,
            "_view_count": null,
            "disabled": false,
            "_view_module_version": "1.5.0",
            "indent": false,
            "description_tooltip": null,
            "_model_module": "@jupyter-widgets/controls",
            "layout": "IPY_MODEL_b5c6b66621e14bd4818b540db18b3102"
          }
        },
        "ba2f376485e54a58a31f91c848cd50d2": {
          "model_module": "@jupyter-widgets/controls",
          "model_name": "DescriptionStyleModel",
          "state": {
            "_view_name": "StyleView",
            "_model_name": "DescriptionStyleModel",
            "description_width": "",
            "_view_module": "@jupyter-widgets/base",
            "_model_module_version": "1.5.0",
            "_view_count": null,
            "_view_module_version": "1.2.0",
            "_model_module": "@jupyter-widgets/controls"
          }
        },
        "b5c6b66621e14bd4818b540db18b3102": {
          "model_module": "@jupyter-widgets/base",
          "model_name": "LayoutModel",
          "state": {
            "_view_name": "LayoutView",
            "grid_template_rows": null,
            "right": null,
            "justify_content": null,
            "_view_module": "@jupyter-widgets/base",
            "overflow": null,
            "_model_module_version": "1.2.0",
            "_view_count": null,
            "flex_flow": null,
            "width": null,
            "min_width": null,
            "border": null,
            "align_items": null,
            "bottom": null,
            "_model_module": "@jupyter-widgets/base",
            "top": null,
            "grid_column": null,
            "overflow_y": null,
            "overflow_x": null,
            "grid_auto_flow": null,
            "grid_area": null,
            "grid_template_columns": null,
            "flex": null,
            "_model_name": "LayoutModel",
            "justify_items": null,
            "grid_row": null,
            "max_height": null,
            "align_content": null,
            "visibility": null,
            "align_self": null,
            "height": null,
            "min_height": null,
            "padding": null,
            "grid_auto_rows": null,
            "grid_gap": null,
            "max_width": null,
            "order": null,
            "_view_module_version": "1.2.0",
            "grid_template_areas": null,
            "object_position": null,
            "object_fit": null,
            "grid_auto_columns": null,
            "margin": null,
            "display": null,
            "left": null
          }
        },
        "10e33a27400a4d8db988920add52e805": {
          "model_module": "@jupyter-widgets/controls",
          "model_name": "CheckboxModel",
          "state": {
            "_view_name": "CheckboxView",
            "style": "IPY_MODEL_474b5a82604f455c970104b4c867217d",
            "_dom_classes": [],
            "description": "VaR Baricentro EWMA T",
            "_model_name": "CheckboxModel",
            "_view_module": "@jupyter-widgets/controls",
            "_model_module_version": "1.5.0",
            "value": true,
            "_view_count": null,
            "disabled": false,
            "_view_module_version": "1.5.0",
            "indent": false,
            "description_tooltip": null,
            "_model_module": "@jupyter-widgets/controls",
            "layout": "IPY_MODEL_57257274b0cd46c38fc709ba5de159bd"
          }
        },
        "474b5a82604f455c970104b4c867217d": {
          "model_module": "@jupyter-widgets/controls",
          "model_name": "DescriptionStyleModel",
          "state": {
            "_view_name": "StyleView",
            "_model_name": "DescriptionStyleModel",
            "description_width": "",
            "_view_module": "@jupyter-widgets/base",
            "_model_module_version": "1.5.0",
            "_view_count": null,
            "_view_module_version": "1.2.0",
            "_model_module": "@jupyter-widgets/controls"
          }
        },
        "57257274b0cd46c38fc709ba5de159bd": {
          "model_module": "@jupyter-widgets/base",
          "model_name": "LayoutModel",
          "state": {
            "_view_name": "LayoutView",
            "grid_template_rows": null,
            "right": null,
            "justify_content": null,
            "_view_module": "@jupyter-widgets/base",
            "overflow": null,
            "_model_module_version": "1.2.0",
            "_view_count": null,
            "flex_flow": null,
            "width": null,
            "min_width": null,
            "border": null,
            "align_items": null,
            "bottom": null,
            "_model_module": "@jupyter-widgets/base",
            "top": null,
            "grid_column": null,
            "overflow_y": null,
            "overflow_x": null,
            "grid_auto_flow": null,
            "grid_area": null,
            "grid_template_columns": null,
            "flex": null,
            "_model_name": "LayoutModel",
            "justify_items": null,
            "grid_row": null,
            "max_height": null,
            "align_content": null,
            "visibility": null,
            "align_self": null,
            "height": null,
            "min_height": null,
            "padding": null,
            "grid_auto_rows": null,
            "grid_gap": null,
            "max_width": null,
            "order": null,
            "_view_module_version": "1.2.0",
            "grid_template_areas": null,
            "object_position": null,
            "object_fit": null,
            "grid_auto_columns": null,
            "margin": null,
            "display": null,
            "left": null
          }
        },
        "8367c49f7ad6442c8b9711294cc5e529": {
          "model_module": "@jupyter-widgets/controls",
          "model_name": "CheckboxModel",
          "state": {
            "_view_name": "CheckboxView",
            "style": "IPY_MODEL_bd04f6b5d0ba47b5b1c4b0ec7abf503f",
            "_dom_classes": [],
            "description": "VaR Matriz VarCovar",
            "_model_name": "CheckboxModel",
            "_view_module": "@jupyter-widgets/controls",
            "_model_module_version": "1.5.0",
            "value": true,
            "_view_count": null,
            "disabled": false,
            "_view_module_version": "1.5.0",
            "indent": false,
            "description_tooltip": null,
            "_model_module": "@jupyter-widgets/controls",
            "layout": "IPY_MODEL_0ebfd145842c483cbf4e298a5a5e0fd4"
          }
        },
        "bd04f6b5d0ba47b5b1c4b0ec7abf503f": {
          "model_module": "@jupyter-widgets/controls",
          "model_name": "DescriptionStyleModel",
          "state": {
            "_view_name": "StyleView",
            "_model_name": "DescriptionStyleModel",
            "description_width": "",
            "_view_module": "@jupyter-widgets/base",
            "_model_module_version": "1.5.0",
            "_view_count": null,
            "_view_module_version": "1.2.0",
            "_model_module": "@jupyter-widgets/controls"
          }
        },
        "0ebfd145842c483cbf4e298a5a5e0fd4": {
          "model_module": "@jupyter-widgets/base",
          "model_name": "LayoutModel",
          "state": {
            "_view_name": "LayoutView",
            "grid_template_rows": null,
            "right": null,
            "justify_content": null,
            "_view_module": "@jupyter-widgets/base",
            "overflow": null,
            "_model_module_version": "1.2.0",
            "_view_count": null,
            "flex_flow": null,
            "width": null,
            "min_width": null,
            "border": null,
            "align_items": null,
            "bottom": null,
            "_model_module": "@jupyter-widgets/base",
            "top": null,
            "grid_column": null,
            "overflow_y": null,
            "overflow_x": null,
            "grid_auto_flow": null,
            "grid_area": null,
            "grid_template_columns": null,
            "flex": null,
            "_model_name": "LayoutModel",
            "justify_items": null,
            "grid_row": null,
            "max_height": null,
            "align_content": null,
            "visibility": null,
            "align_self": null,
            "height": null,
            "min_height": null,
            "padding": null,
            "grid_auto_rows": null,
            "grid_gap": null,
            "max_width": null,
            "order": null,
            "_view_module_version": "1.2.0",
            "grid_template_areas": null,
            "object_position": null,
            "object_fit": null,
            "grid_auto_columns": null,
            "margin": null,
            "display": null,
            "left": null
          }
        },
        "39cd3c332f8842e7ab1a8203b5d6a8d8": {
          "model_module": "@jupyter-widgets/controls",
          "model_name": "ButtonModel",
          "state": {
            "_view_name": "ButtonView",
            "style": "IPY_MODEL_e48e14df82cc400bb5f6dc5181cdab40",
            "_dom_classes": [],
            "description": "Gráfico",
            "_model_name": "ButtonModel",
            "button_style": "",
            "_view_module": "@jupyter-widgets/controls",
            "_model_module_version": "1.5.0",
            "tooltip": "",
            "_view_count": null,
            "disabled": false,
            "_view_module_version": "1.5.0",
            "layout": "IPY_MODEL_522a01202644410699ec05980406a2c0",
            "_model_module": "@jupyter-widgets/controls",
            "icon": ""
          }
        },
        "e48e14df82cc400bb5f6dc5181cdab40": {
          "model_module": "@jupyter-widgets/controls",
          "model_name": "ButtonStyleModel",
          "state": {
            "_view_name": "StyleView",
            "_model_name": "ButtonStyleModel",
            "_view_module": "@jupyter-widgets/base",
            "_model_module_version": "1.5.0",
            "_view_count": null,
            "button_color": null,
            "font_weight": "",
            "_view_module_version": "1.2.0",
            "_model_module": "@jupyter-widgets/controls"
          }
        },
        "522a01202644410699ec05980406a2c0": {
          "model_module": "@jupyter-widgets/base",
          "model_name": "LayoutModel",
          "state": {
            "_view_name": "LayoutView",
            "grid_template_rows": null,
            "right": null,
            "justify_content": null,
            "_view_module": "@jupyter-widgets/base",
            "overflow": null,
            "_model_module_version": "1.2.0",
            "_view_count": null,
            "flex_flow": null,
            "width": null,
            "min_width": null,
            "border": null,
            "align_items": null,
            "bottom": null,
            "_model_module": "@jupyter-widgets/base",
            "top": null,
            "grid_column": null,
            "overflow_y": null,
            "overflow_x": null,
            "grid_auto_flow": null,
            "grid_area": null,
            "grid_template_columns": null,
            "flex": null,
            "_model_name": "LayoutModel",
            "justify_items": null,
            "grid_row": null,
            "max_height": null,
            "align_content": null,
            "visibility": null,
            "align_self": null,
            "height": null,
            "min_height": null,
            "padding": null,
            "grid_auto_rows": null,
            "grid_gap": null,
            "max_width": null,
            "order": null,
            "_view_module_version": "1.2.0",
            "grid_template_areas": null,
            "object_position": null,
            "object_fit": null,
            "grid_auto_columns": null,
            "margin": null,
            "display": null,
            "left": null
          }
        },
        "de02d655d1af4d2dbd2cae641495f8e0": {
          "model_module": "@jupyter-widgets/controls",
          "model_name": "ButtonModel",
          "state": {
            "_view_name": "ButtonView",
            "style": "IPY_MODEL_9c97988bdfbd4a6b8375d0646ec70484",
            "_dom_classes": [],
            "description": "Tabla",
            "_model_name": "ButtonModel",
            "button_style": "",
            "_view_module": "@jupyter-widgets/controls",
            "_model_module_version": "1.5.0",
            "tooltip": "",
            "_view_count": null,
            "disabled": false,
            "_view_module_version": "1.5.0",
            "layout": "IPY_MODEL_914fbe4b4cad43529bf6a268478d4ba8",
            "_model_module": "@jupyter-widgets/controls",
            "icon": ""
          }
        },
        "9c97988bdfbd4a6b8375d0646ec70484": {
          "model_module": "@jupyter-widgets/controls",
          "model_name": "ButtonStyleModel",
          "state": {
            "_view_name": "StyleView",
            "_model_name": "ButtonStyleModel",
            "_view_module": "@jupyter-widgets/base",
            "_model_module_version": "1.5.0",
            "_view_count": null,
            "button_color": null,
            "font_weight": "",
            "_view_module_version": "1.2.0",
            "_model_module": "@jupyter-widgets/controls"
          }
        },
        "914fbe4b4cad43529bf6a268478d4ba8": {
          "model_module": "@jupyter-widgets/base",
          "model_name": "LayoutModel",
          "state": {
            "_view_name": "LayoutView",
            "grid_template_rows": null,
            "right": null,
            "justify_content": null,
            "_view_module": "@jupyter-widgets/base",
            "overflow": null,
            "_model_module_version": "1.2.0",
            "_view_count": null,
            "flex_flow": null,
            "width": null,
            "min_width": null,
            "border": null,
            "align_items": null,
            "bottom": null,
            "_model_module": "@jupyter-widgets/base",
            "top": null,
            "grid_column": null,
            "overflow_y": null,
            "overflow_x": null,
            "grid_auto_flow": null,
            "grid_area": null,
            "grid_template_columns": null,
            "flex": null,
            "_model_name": "LayoutModel",
            "justify_items": null,
            "grid_row": null,
            "max_height": null,
            "align_content": null,
            "visibility": null,
            "align_self": null,
            "height": null,
            "min_height": null,
            "padding": null,
            "grid_auto_rows": null,
            "grid_gap": null,
            "max_width": null,
            "order": null,
            "_view_module_version": "1.2.0",
            "grid_template_areas": null,
            "object_position": null,
            "object_fit": null,
            "grid_auto_columns": null,
            "margin": null,
            "display": null,
            "left": null
          }
        },
        "45effbba8e45445bbb8a152ecbcd93fd": {
          "model_module": "@jupyter-widgets/controls",
          "model_name": "ButtonModel",
          "state": {
            "_view_name": "ButtonView",
            "style": "IPY_MODEL_8a5478dcf278485aa07ea76ecf161790",
            "_dom_classes": [],
            "description": "Descargar Excel",
            "_model_name": "ButtonModel",
            "button_style": "",
            "_view_module": "@jupyter-widgets/controls",
            "_model_module_version": "1.5.0",
            "tooltip": "",
            "_view_count": null,
            "disabled": false,
            "_view_module_version": "1.5.0",
            "layout": "IPY_MODEL_cfb404a99dc34b739366ea9f91be90e1",
            "_model_module": "@jupyter-widgets/controls",
            "icon": ""
          }
        },
        "8a5478dcf278485aa07ea76ecf161790": {
          "model_module": "@jupyter-widgets/controls",
          "model_name": "ButtonStyleModel",
          "state": {
            "_view_name": "StyleView",
            "_model_name": "ButtonStyleModel",
            "_view_module": "@jupyter-widgets/base",
            "_model_module_version": "1.5.0",
            "_view_count": null,
            "button_color": null,
            "font_weight": "",
            "_view_module_version": "1.2.0",
            "_model_module": "@jupyter-widgets/controls"
          }
        },
        "cfb404a99dc34b739366ea9f91be90e1": {
          "model_module": "@jupyter-widgets/base",
          "model_name": "LayoutModel",
          "state": {
            "_view_name": "LayoutView",
            "grid_template_rows": null,
            "right": null,
            "justify_content": null,
            "_view_module": "@jupyter-widgets/base",
            "overflow": null,
            "_model_module_version": "1.2.0",
            "_view_count": null,
            "flex_flow": null,
            "width": null,
            "min_width": null,
            "border": null,
            "align_items": null,
            "bottom": null,
            "_model_module": "@jupyter-widgets/base",
            "top": null,
            "grid_column": null,
            "overflow_y": null,
            "overflow_x": null,
            "grid_auto_flow": null,
            "grid_area": null,
            "grid_template_columns": null,
            "flex": null,
            "_model_name": "LayoutModel",
            "justify_items": null,
            "grid_row": null,
            "max_height": null,
            "align_content": null,
            "visibility": null,
            "align_self": null,
            "height": null,
            "min_height": null,
            "padding": null,
            "grid_auto_rows": null,
            "grid_gap": null,
            "max_width": null,
            "order": null,
            "_view_module_version": "1.2.0",
            "grid_template_areas": null,
            "object_position": null,
            "object_fit": null,
            "grid_auto_columns": null,
            "margin": null,
            "display": null,
            "left": null
          }
        },
        "867ad37e13874adaa19a38ab6ae1731a": {
          "model_module": "@jupyter-widgets/output",
          "model_name": "OutputModel",
          "state": {
            "_view_name": "OutputView",
            "msg_id": "",
            "_dom_classes": [],
            "_model_name": "OutputModel",
            "outputs": [],
            "_view_module": "@jupyter-widgets/output",
            "_model_module_version": "1.0.0",
            "_view_count": null,
            "_view_module_version": "1.0.0",
            "layout": "IPY_MODEL_f4291773ef604fb0a8d68ef2a9319f67",
            "_model_module": "@jupyter-widgets/output"
          }
        },
        "f4291773ef604fb0a8d68ef2a9319f67": {
          "model_module": "@jupyter-widgets/base",
          "model_name": "LayoutModel",
          "state": {
            "_view_name": "LayoutView",
            "grid_template_rows": null,
            "right": null,
            "justify_content": null,
            "_view_module": "@jupyter-widgets/base",
            "overflow": null,
            "_model_module_version": "1.2.0",
            "_view_count": null,
            "flex_flow": null,
            "width": null,
            "min_width": null,
            "border": null,
            "align_items": null,
            "bottom": null,
            "_model_module": "@jupyter-widgets/base",
            "top": null,
            "grid_column": null,
            "overflow_y": null,
            "overflow_x": null,
            "grid_auto_flow": null,
            "grid_area": null,
            "grid_template_columns": null,
            "flex": null,
            "_model_name": "LayoutModel",
            "justify_items": null,
            "grid_row": null,
            "max_height": null,
            "align_content": null,
            "visibility": null,
            "align_self": null,
            "height": null,
            "min_height": null,
            "padding": null,
            "grid_auto_rows": null,
            "grid_gap": null,
            "max_width": null,
            "order": null,
            "_view_module_version": "1.2.0",
            "grid_template_areas": null,
            "object_position": null,
            "object_fit": null,
            "grid_auto_columns": null,
            "margin": null,
            "display": null,
            "left": null
          }
        }
      }
    }
  },
  "cells": [
    {
      "cell_type": "markdown",
      "metadata": {
        "id": "view-in-github",
        "colab_type": "text"
      },
      "source": [
        "<a href=\"https://colab.research.google.com/github/eilinlunam/MetodologiasVaR/blob/main/Metodolog%C3%ADasVaR.ipynb\" target=\"_parent\"><img src=\"https://colab.research.google.com/assets/colab-badge.svg\" alt=\"Open In Colab\"/></a>"
      ]
    },
    {
      "cell_type": "markdown",
      "metadata": {
        "id": "IDtPkpIvWAye"
      },
      "source": [
        "# <center><font color='red'> **RIESGO DE MERCADOS** </center></font>"
      ]
    },
    {
      "cell_type": "markdown",
      "metadata": {
        "id": "5CzC2XhvMiKn"
      },
      "source": [
        "## <font color='blue'> **Ejecuta estas celdas.**<font color='red'> "
      ]
    },
    {
      "cell_type": "code",
      "metadata": {
        "cellView": "form",
        "id": "nA0DTHwNMc-V"
      },
      "source": [
        "#@markdown *Cargando librerías*\n",
        "# IMPORTANDO LIBRERIAS\n",
        "%matplotlib inline\n",
        "\n",
        "from IPython.display import display, clear_output\n",
        "from google.colab import widgets as wg\n",
        "from google.colab import data_table \n",
        "from google.colab import files\n",
        "import ipywidgets as widgets\n",
        "from skimage import io\n",
        "from PIL import Image\n",
        "\n",
        "import matplotlib.pyplot as plt\n",
        "from pandas_datareader import data as pdr\n",
        "\n",
        "from scipy.stats import norm, kurtosis, t, chi2\n",
        "import pandas as pd\n",
        "import numpy as np\n",
        "import math\n",
        "\n",
        "!pip install yfinance\n",
        "import yfinance as yf\n",
        "clear_output()"
      ],
      "execution_count": 1,
      "outputs": []
    },
    {
      "cell_type": "code",
      "metadata": {
        "id": "SSN6Kb8oL_fs",
        "cellView": "form"
      },
      "source": [
        "#@markdown *Cargando clase metodologia*\n",
        "\n",
        "#Parámetros de ingreso:\n",
        "    # stocks --> Lista de acciones [\"stock1\",\"stock2\",\"stock3\"]\n",
        "    # pais --> str \"united states\"\n",
        "    # dinero --> Lista de inversiones [1000, 1000, 1000]\n",
        "    # desde --> fecha str \"01/01/2020\"\n",
        "    # hasta --> fecha str \"10/11/2020\"\n",
        "    # alphas --> Lista [0.1, 0.2, 0.3]\n",
        "    # periodos --> 277 dias (modificable por el usuario)\n",
        "    # dias --> (Numero de datos - periodos)  --> Ya no es 252 dias.\n",
        "    \n",
        "class metodologia:\n",
        "    \n",
        "    def __init__(self, stocks, dinero, desde, hasta, alphas, \n",
        "                 pais=\"united states\", periodos=277, landa=0.94):\n",
        "        # Instancias: \n",
        "        self.stocks = stocks   \n",
        "        self.country = pais    \n",
        "        self.money = dinero   \n",
        "        self.start = desde\n",
        "        self.end = hasta\n",
        "        self.alphas = alphas   \n",
        "        self.periodos = periodos  \n",
        "        self.landa = landa\n",
        "        self.n = len(stocks)  # Cantidad de activos\n",
        "        self.W = np.array(dinero)/np.sum(dinero)  # Vector de participaciones\n",
        "        self.data = self.get_data()  #Datos: Fecha, PrecioActivo1, PrecioActivo2, ..., PrecioActivon\n",
        "        self.rent = self.get_rentabilidades() #Rent: Fecha, RentActivo1, RentActivo2,...,RentActivon  \n",
        "        self.rend = self.get_rendimiento() # Rend: Fecha, RendPortafolio\n",
        "        self.N = len(self.data)-1  # Cantidad total de datos\n",
        "        self.dias = self.N - self.periodos \n",
        "        self.a = self.N-self.periodos-self.dias  \n",
        "        self.b = self.N-self.periodos\n",
        "        self.fechas = self.get_fechas()\n",
        "\n",
        "    # Descargando valores de cada accion en Yahoo Finance\n",
        "    def get_data(self):\n",
        "        if self.stocks!=[]:\n",
        "            try:\n",
        "                yf.pdr_override \n",
        "                data = pdr.get_data_yahoo(self.stocks, start = self.start, end = self.end)\n",
        "                return data[\"Close\"]\n",
        "            except:\n",
        "                print(\"Error\")\n",
        "                return\n",
        "    \n",
        "    # Obtiene las rentabilidades: R=log(Pf/Pi)\n",
        "    def get_rentabilidades(self):\n",
        "        df = pd.DataFrame()\n",
        "        for i in self.stocks:\n",
        "            P_final = self.data[i][1:].values\n",
        "            P_inicial = self.data[i][0:-1].values\n",
        "            df[i] = np.log(P_final/P_inicial)\n",
        "        df.index = [k.strftime(\"%d/%m/%Y\") for k in self.data.index[1:]]\n",
        "        return df\n",
        "\n",
        "    # Calculando rendimiento del portafolio\n",
        "    def get_rendimiento(self):\n",
        "        Rent = (self.rent*self.W).sum(axis=1)\n",
        "        return pd.DataFrame(Rent, columns=[\"Rent\"])\n",
        "\n",
        "    # Extrayendo fechas en el periodo escogido (277 dias (por defecto))\n",
        "    def get_fechas(self):\n",
        "        Fechas = self.data[self.N-self.periodos+1:self.N+1].index\n",
        "        Fechas = [i.strftime(\"%d/%m/%Y\") for i in Fechas]\n",
        "        return Fechas\n",
        "\n",
        "    # Calculando desviacion estandar por ventanas de una accion\n",
        "    def get_desvest(self, s):\n",
        "        return np.array([np.std(self.rent[s][self.a+j:self.b+j], ddof=1) for j in range(self.periodos)])\n",
        "\n",
        "    # Calculando desviacion estandar como: d.j+1 = sqrt{lamda*(d.j**2) + (1-lamda)*(rent**2)}\n",
        "    def get_desvest_2(self, s):\n",
        "        r0 = self.rent[s][self.N-self.periodos:self.N]\n",
        "        d0 = [np.std(self.rent[s][self.a:self.b], ddof=1)]\n",
        "        for j in range(self.periodos-1):\n",
        "            d0 += [np.sqrt(self.landa*d0[j]**2+(1-self.landa)*r0[j]**2)]\n",
        "        return np.array(d0)\n",
        "\n",
        "    # Calculando desviacion estandar como: sqrt{v-2/v}*desvest_movil\n",
        "    def get_desvest_3(self, s):\n",
        "        v = self.get_grados_de_libertad(self.rent[s])\n",
        "        d = self.get_desvest(s)\n",
        "        return np.sqrt((v-2)/v)*d\n",
        "\n",
        "    # Calculando desviacion estandar como: d.j+1 = sqrt{v.j-2/v.j}*sqrt{lamda*(d.j**2) + (1-lamda)*(rent**2)}\n",
        "    def get_desvest_4(self, s):\n",
        "        v = self.get_grados_de_libertad(self.rent[s])\n",
        "        r0 = self.rent[s][self.N-self.periodos:self.N]\n",
        "        d0 = [np.std(self.rent[s][self.a:self.b]*np.sqrt((v[0]-2)/v[0]), ddof=1)]\n",
        "        for j in range(self.periodos-1):\n",
        "            d0 += [np.sqrt(self.landa*d0[j]**2+(1-self.landa)*r0[j]**2)*np.sqrt((v[j+1]-2)/v[j+1])]\n",
        "        return np.array(d0)\n",
        "\n",
        "    # Calculando media aritmetica por ventanas de una accion\n",
        "    def get_mean(self, s):\n",
        "        return [np.mean(self.rent[s][self.a+j:self.b+j]) for j in range(self.periodos)]\n",
        "\n",
        "    # Calculando Grados de libertad dado las rentabilidades\n",
        "    def get_grados_de_libertad(self,rent):\n",
        "        GL = []\n",
        "        for j in range(self.periodos):\n",
        "            rango = rent[self.a+j:self.b+j]\n",
        "            k = kurtosis(rango)\n",
        "            GL += [np.round((4*k+6)/k)]\n",
        "        return np.array(GL, dtype=int)\n",
        "\n",
        "    # VaR Delta Normal (s=Activo)   \n",
        "    def VaRDeltaNormal(self,s):\n",
        "        df = pd.DataFrame()\n",
        "        df[\"Fechas\"] = self.fechas\n",
        "        desviaciones = self.get_desvest(s)\n",
        "        for a in self.alphas:\n",
        "            Zalpha = -norm.ppf(1-a)\n",
        "            df['alpha='+str(a)]=desviaciones*Zalpha\n",
        "        return df\n",
        "\n",
        "    # VaR Simulacion Univariada (s=Activo)   \n",
        "    def VaRSimulacionHistoricaUnivariada(self,s):\n",
        "        df = pd.DataFrame()\n",
        "        df[\"Fechas\"] = self.fechas\n",
        "        for a in self.alphas:\n",
        "            X=[np.percentile(self.rent[s][self.a+j:self.b+j],a*100) for j in range(self.periodos)]\n",
        "            df['alpha='+str(a)]=X\n",
        "        return df  \n",
        "\n",
        "    # VaR Delta T (s=Activo)\n",
        "    def VaRDeltaT(self,s):\n",
        "        df = pd.DataFrame()\n",
        "        df[\"Fechas\"] = self.fechas\n",
        "        v = self.get_grados_de_libertad(self.rent[s])\n",
        "        desv = self.get_desvest_3(s)\n",
        "        for a in self.alphas:\n",
        "            df['alpha='+str(a)]=desv*-t.ppf(1-a, v)\n",
        "        return df\n",
        "        \n",
        "    # VaR Suma Simple (Portafolio)\n",
        "    def VaRSumaSimplePortafolio(self):\n",
        "        df = pd.DataFrame()\n",
        "        df[\"Fechas\"] = self.fechas\n",
        "        for a in self.alphas:\n",
        "            df['alpha='+str(a)]=sum([self.VaRDeltaNormal(i)['alpha='+str(a)] for i in self.stocks])\n",
        "        return df\n",
        "\n",
        "    # VaR Baricentro EWMA Normal (Portafolio)\n",
        "    def VaRBaricentroEWMANormal(self):\n",
        "        df = pd.DataFrame()\n",
        "        df[\"Fechas\"] = self.fechas\n",
        "        Desv_Bar_Prom_EWMA = sum([self.get_desvest_2(self.stocks[i])*self.W[i] for i in range(self.n)])\n",
        "        for a in self.alphas:\n",
        "            df['alpha='+str(a)]=Desv_Bar_Prom_EWMA*-norm.ppf(1-a)\n",
        "        return df\n",
        "\n",
        "    # VaR Baricentro Promedio Normal (Portafolio)\n",
        "    def VaRBaricentroPromedioNormal(self):\n",
        "        df = pd.DataFrame()\n",
        "        df[\"Fechas\"] = self.fechas\n",
        "        Desv_Bar_Prom = sum([self.get_desvest(self.stocks[i])*self.W[i] for i in range(self.n)])\n",
        "        for a in self.alphas:\n",
        "            df['alpha='+str(a)]=Desv_Bar_Prom*-norm.ppf(1-a)\n",
        "        return df\n",
        "\n",
        "    # VaR Simulacion Historica (Portafolio)\n",
        "    def VaRSimulacionHistorica(self):\n",
        "        df = pd.DataFrame()\n",
        "        df[\"Fechas\"] = self.fechas\n",
        "        for a in self.alphas:\n",
        "            X=[np.percentile(self.rend[self.a+j:self.b+j],a*100) for j in range(self.periodos)]\n",
        "            df['alpha='+str(a)]=X\n",
        "        return df    \n",
        "\n",
        "    # VaR Baricentro Promedio T (Portafolio)\n",
        "    def VaRBaricentroPromedioT(self):\n",
        "        df = pd.DataFrame()\n",
        "        df[\"Fechas\"] = self.fechas\n",
        "        GL=self.get_grados_de_libertad(self.rend['Rent'])\n",
        "        desv = sum([self.get_desvest_3(self.stocks[i])*self.W[i] for i in range(self.n)])\n",
        "        for a in self.alphas:\n",
        "            df['alpha='+str(a)]=desv*-t.ppf(1-a, GL)\n",
        "        return df\n",
        "\n",
        "    # VaR Baricentro EWMA T (Portafolio)\n",
        "    def VaRBaricentroEWMAT(self):\n",
        "        df = pd.DataFrame()\n",
        "        df[\"Fechas\"] = self.fechas\n",
        "        GL=self.get_grados_de_libertad(self.rend['Rent'])\n",
        "        desv = sum([self.get_desvest_4(self.stocks[i])*self.W[i] for i in range(self.n)])\n",
        "        for a in self.alphas:\n",
        "            df['alpha='+str(a)]=desv*-t.ppf(1-a, GL)\n",
        "        return df\n",
        "\n",
        "    # VaR Matrix CovVar (Portafolio)\n",
        "    def VaRMatrizVarCovar(self):\n",
        "        W = np.matrix(self.W)\n",
        "        df = pd.DataFrame()     \n",
        "        desv = []\n",
        "        df[\"Fechas\"] = self.fechas\n",
        "        for j in range(self.periodos):\n",
        "            rent_movil = np.transpose(self.rent[:][self.a+j:self.b+j].values)\n",
        "            cov = np.matrix(np.cov(rent_movil))\n",
        "            desv_p = W*cov*W.T\n",
        "            desv += [np.sqrt(desv_p[0,0])]\n",
        "        desv = np.array(desv)\n",
        "        for a in self.alphas:\n",
        "            Zalpha = -norm.ppf(1-a)\n",
        "            df['alpha='+str(a)]=desv*Zalpha\n",
        "        return df\n",
        "    \n",
        "    # M, dataframe arrojado por el metodo usado.\n",
        "    def excepciones(self, M):\n",
        "        df = pd.DataFrame()\n",
        "        df[\"Fechas\"] = self.fechas\n",
        "        RP = self.rend['Rent'][self.b:self.N].values\n",
        "        for a in self.alphas:\n",
        "            df['alpha='+str(a)]=RP<M['alpha='+str(a)]\n",
        "        return df  \n",
        "    \n",
        "    def BackTesting(self, M):\n",
        "        ex = self.excepciones(M)\n",
        "        p = np.array(self.alphas)\n",
        "        x = ex.sum()[1:].values\n",
        "        m = ex.count()[1:].values\n",
        "        p_est = x/m\n",
        "        nivel = np.array([0.05]*len(self.alphas))\n",
        "        BackTesting = m*p\n",
        "        num = (p**x)*(1-p)**(m-x)\n",
        "        den = (p_est**x)*(1-p_est)**(m-x)\n",
        "        test_kupiec = -2*np.log(list(num/den))\n",
        "        ValorP = chi2.pdf(test_kupiec,1)\n",
        "        zona = np.where(ValorP<=nivel, \"Rechazo H0\", \"No Rechazo H0\")\n",
        "        d = pd.DataFrame({'p':p, 'x':x , 'm':m, 'BackTesting':BackTesting,\n",
        "                          'p estimado':p_est , 'nivel de significancia':nivel,\n",
        "                          'test de kupiec':test_kupiec, \n",
        "                          'Valor P':ValorP,\n",
        "                          \"Zona de rechazo\":zona, \n",
        "                          \"Valor de eficiencia\": 1-p_est})\n",
        "        return d.T"
      ],
      "execution_count": 2,
      "outputs": []
    },
    {
      "cell_type": "code",
      "metadata": {
        "id": "CtCybP7uME6i",
        "cellView": "form"
      },
      "source": [
        "#@markdown *Cargando clase visualizacion*\n",
        "\n",
        "class VENTANA:\n",
        "    def __init__(self, MET):\n",
        "        self.metodologias = MET\n",
        "\n",
        "    #===============================================================================================\n",
        "    \n",
        "    # Funcion que muestra la composicion del portafolio\n",
        "    def composicion(self):\n",
        "        # LOGO\n",
        "        fig, ax = plt.subplots(figsize=(8,3), ncols=2, dpi=80)\n",
        "        url = 'https://github.com/eilinlunam/MetodologiasVaR/blob/main/images/logo.PNG?raw=true'\n",
        "        img = io.imread(url)\n",
        "        ax[0].imshow(img)\n",
        "        ax[0].axis('off')\n",
        "        ax[0].text(0,0,self.metodologias.data.index[-1].strftime(\"%d/%b/%Y\"), fontsize=16)\n",
        "\n",
        "        # DIAGRAMA CIRCULAR\n",
        "        cmap = plt.get_cmap('Spectral')\n",
        "        colors = [cmap(i) for i in np.linspace(0.1, 1, self.metodologias.n)]\n",
        "        ax[1].pie(self.metodologias.W, labels=self.metodologias.stocks, colors=colors,\n",
        "                wedgeprops={'linewidth': 2, 'edgecolor' : 'w'},autopct='%1.1f%%',\n",
        "                shadow=True, startangle=90, radius=1.1)\n",
        "        plt.show()\n",
        "      \n",
        "        # Tabla \n",
        "        # (d = Clase metodologia)\n",
        "        Tabla = pd.DataFrame()\n",
        "        Tabla[\"Participaciones\"] = self.metodologias.W \n",
        "        Tabla.index = self.metodologias.stocks\n",
        "        Tabla[\"Precio Cierre\"] = self.metodologias.data.iloc[-1].values\n",
        "        Tabla[\"Rendimiento\"]=self.metodologias.rent.iloc[-1]\n",
        "        Tabla[\"Media\"]=self.metodologias.rent.mean().values\n",
        "        Tabla[\"Desviacion estándar\"]=self.metodologias.rent.std().values\n",
        "        Tabla[\"Mínimo\"]=self.metodologias.rent.min().values\n",
        "        Tabla[\"Máximo\"]=self.metodologias.rent.max().values\n",
        "        Tabla[\"Cantidad\"]=self.metodologias.rent.count().values\n",
        "        Tabla = Tabla.transpose()\n",
        "        self.DarEstiloTabla(Tabla)\n",
        "\n",
        "    #===============================================================================================\n",
        "    \n",
        "    # Funcion que muestra el VaR Individual\n",
        "    def VarIndividual(self):     \n",
        "        Met = widgets.Dropdown(options=[\"VaR Delta Normal\",\n",
        "                                        \"VaR Simulacion Historica Univariada\",\n",
        "                                        \"VaR Delta T\"],\n",
        "                                value=\"VaR Delta Normal\",\n",
        "                                description='Metodología:',\n",
        "                               disabled=False,)\n",
        "\n",
        "        stock = widgets.Dropdown(options=stocks,\n",
        "                                value=stocks[0],\n",
        "                                description='Acción:',\n",
        "                                 disabled=False,)\n",
        "\n",
        "        output = widgets.Output()\n",
        "\n",
        "        button1 = widgets.Button(description=\"Tabla\")\n",
        "        button1.on_click(lambda b: self.on_button_click(\n",
        "            Met, stock, output, \"Tabla\"))\n",
        "\n",
        "        button2 = widgets.Button(description=\"Gráfico\")\n",
        "        button2.on_click(lambda b: self.on_button_click(\n",
        "            Met, stock, output, \"Gráfico\"))\n",
        "\n",
        "        button3 = widgets.Button(description=\"Descargar archivo excel\")     \n",
        "        button3.on_click(lambda b: self.on_button_click(\n",
        "            Met, stock, output, \"Excel\"))\n",
        "\n",
        "        # Cuadriculas para mostrar resultados.\n",
        "        Wg = [Met, stock, button1, button2, button3, output]\n",
        "        self.mostrar_widgets(Wg)\n",
        "\n",
        "    #===============================================================================================\n",
        "\n",
        "    # Funcion dar click    \n",
        "    def on_button_click(self, Met, stock, output, Acto, ind=True):\n",
        "        with output:\n",
        "            clear_output()\n",
        "            MET = Met.value\n",
        "            if stock!=None: ACT=stock.value \n",
        "            # METODOLOGIA\n",
        "            f = self.get_Metodologia(MET, stock)\n",
        "            if stock!=None:\n",
        "                df = f(stock.value).round(6)\n",
        "            else:\n",
        "                df = f().round(6)\n",
        "            # VISUALIZACION\n",
        "            if Acto == \"Tabla\":\n",
        "                bt = self.metodologias.BackTesting(df)\n",
        "                df[df.columns.difference(['Fechas', 'GL'])] = (df[df.columns.difference(['Fechas', 'GL'])]*100).round(6).astype(str) + '%'\n",
        "                d=data_table.DataTable(df, include_index=False, num_rows_per_page=10)\n",
        "                display(d)\n",
        "                display(bt)\n",
        "            elif Acto==\"Gráfico\":\n",
        "                if stock!=None:\n",
        "                    self.grafico(df, MET, s=stock.value)\n",
        "                else:\n",
        "                    self.grafico(df, MET)\n",
        "            else:\n",
        "                df.to_excel(\"VaRoutput.xlsx\")\n",
        "                files.download(\"VaRoutput.xlsx\") \n",
        "\n",
        "\n",
        "    #===============================================================================================\n",
        "    \n",
        "    # Funcion que muestra el VaR del portafolio\n",
        "    def VarPortafolio(self):     \n",
        "        Met = widgets.Dropdown(options=[\"VaR Suma Simple\",\n",
        "                                        \"VaR Baricentro EWMA Normal\",\n",
        "                                        \"VaR Baricentro Promedio Normal\",\n",
        "                                        \"VaR Simulación Histórica\",\n",
        "                                        \"VaR Baricentro Promedio T\",\n",
        "                                        \"VaR Baricentro EWMA T\",\n",
        "                                        \"VaR Matriz VarCovar\"],\n",
        "                                value=\"VaR Suma Simple\",\n",
        "                                description='Metodología:',disabled=False,)\n",
        "        \n",
        "        output = widgets.Output()\n",
        "\n",
        "        button1 = widgets.Button(description=\"Tabla\")\n",
        "        button1.on_click(lambda b: self.on_button_click(Met, None, output, \"Tabla\"))\n",
        "\n",
        "        button2 = widgets.Button(description=\"Gráfico\")\n",
        "        button2.on_click(lambda b: self.on_button_click(Met, None, output, \"Gráfico\"))\n",
        "\n",
        "        button3 = widgets.Button(description=\"Descargar archivo excel\")     \n",
        "        button3.on_click(lambda b: self.on_button_click(Met, None, output, \"Excel\"))\n",
        "\n",
        "        # Cuadriculas para mostrar resultados.\n",
        "        Wg = [Met, None, button1, button2, button3, output]\n",
        "        self.mostrar_widgets(Wg)\n",
        "\n",
        "    #===============================================================================================\n",
        "    \n",
        "    # Obtiene la funcion de la metodologia utilizada\n",
        "    def get_Metodologia(self, Met, ind):\n",
        "        if ind!=None:\n",
        "            if Met==\"VaR Delta Normal\":\n",
        "                return self.metodologias.VaRDeltaNormal\n",
        "            elif Met==\"VaR Simulacion Historica Univariada\":\n",
        "                return self.metodologias.VaRSimulacionHistoricaUnivariada\n",
        "            elif Met==\"VaR Delta T\":\n",
        "                return self.metodologias.VaRDeltaT\n",
        "        else:\n",
        "            if Met==\"VaR Suma Simple\":\n",
        "                return self.metodologias.VaRSumaSimplePortafolio\n",
        "            elif Met==\"VaR Baricentro EWMA Normal\":\n",
        "                return self.metodologias.VaRBaricentroEWMANormal\n",
        "            elif Met==\"VaR Baricentro Promedio Normal\":\n",
        "                return self.metodologias.VaRBaricentroPromedioNormal\n",
        "            elif Met==\"VaR Simulación Histórica\":\n",
        "                return self.metodologias.VaRSimulacionHistorica\n",
        "            elif Met==\"VaR Baricentro Promedio T\":\n",
        "                return self.metodologias.VaRBaricentroPromedioT\n",
        "            elif Met==\"VaR Baricentro EWMA T\":\n",
        "                return self.metodologias.VaRBaricentroEWMAT\n",
        "            elif Met==\"VaR Matriz VarCovar\":\n",
        "                return self.metodologias.VaRMatrizVarCovar\n",
        "\n",
        "    #===============================================================================================\n",
        "    \n",
        "    # Funcion grafico\n",
        "    def grafico(self, df, metodo, s=None):\n",
        "        plt.figure(figsize=(6,4),dpi=100)\n",
        "        plt.title(\"Metodología \"+metodo, color=\"red\")\n",
        "        if s!=None:\n",
        "            renta = self.metodologias.rent[s][self.metodologias.b:self.metodologias.N].values\n",
        "        else:\n",
        "            renta = self.metodologias.rend['Rent'][self.metodologias.b:self.metodologias.N].values\n",
        "        plt.plot(renta, label=\"Rentabilidad\")\n",
        "        for i in self.metodologias.alphas: \n",
        "            plt.plot(df[\"alpha=\"+str(i)], label=\"alpha=\"+str(i))\n",
        "        plt.legend()\n",
        "        plt.grid('--', lw=1.3, alpha=0.3)\n",
        "        min = df.index.min()\n",
        "        max = df.index.max()\n",
        "        nn = max-min\n",
        "        lista = np.arange(min, max, nn//8)\n",
        "        labels = df[\"Fechas\"].values[0:max-min:nn//8]\n",
        "        plt.xticks(lista, labels, rotation=60)\n",
        "        plt.xlim(min, max)\n",
        "        plt.show()\n",
        "\n",
        "    #===============================================================================================\n",
        "\n",
        "    # Funcion que muestra cuadriculas:\n",
        "    def mostrar_widgets(self, w):\n",
        "        Met, stock, b1, b2, b3, o = w\n",
        "        g = wg.Grid(2, 1)\n",
        "        with g.output_to(0, 0): \n",
        "            display(Met)\n",
        "            if stock!=None: display(stock)        \n",
        "        with g.output_to(1, 0):\n",
        "            g1 = wg.Grid(1, 3)\n",
        "            with g1.output_to(0,0): display(b1)\n",
        "            with g1.output_to(0,1): display(b2)\n",
        "            with g1.output_to(0,2): display(b3)\n",
        "        display(o)\n",
        "\n",
        "    #===============================================================================================\n",
        "\n",
        "    # Funcion que muestra el ultimo VAR\n",
        "    def UltimoVaR(self, x):\n",
        "        fig = plt.figure(figsize=(2.3,1), dpi=60)\n",
        "        if x<0:\n",
        "            fig.patch.set_facecolor('salmon')\n",
        "            x=\"-\"+str(round(x,2))\n",
        "        else:\n",
        "            fig.patch.set_facecolor('lime')\n",
        "            x=\"+\"+str(round(x,2))\n",
        "        plt.text(0.33,0.8,r\"$\\alpha=\"+str(self.metodologias.alphas[0])+\"$\", color=\"white\", fontsize=10)\n",
        "        plt.text(0.17,0.3,x, fontsize=25)\n",
        "        plt.axis('off')\n",
        "        plt.show()\n",
        "    \n",
        "    #===============================================================================================\n",
        "    \n",
        "    # Funcion que da estilo a tabla\n",
        "    def DarEstiloTabla(self,df):\n",
        "        color_negative_red = lambda val: 'color: %s' % 'red' if val < 0 else 'black'\n",
        "        display(df.style\\\n",
        "            .set_precision(3)\\\n",
        "            .applymap(color_negative_red,subset=pd.IndexSlice['Rendimiento',self.metodologias.stocks])\\\n",
        "            .applymap(color_negative_red,subset=pd.IndexSlice['Precio Cierre',self.metodologias.stocks])\\\n",
        "            .set_table_styles([{'selector':'','props':[('border','4px solid #4F7'),]}])\\\n",
        "            .format(\"{:.3%}\", subset=pd.IndexSlice['Participaciones',self.metodologias.stocks])\\\n",
        "            .format(\"{:.3%}\", subset=pd.IndexSlice['Rendimiento',self.metodologias.stocks])\\\n",
        "            .set_table_styles([dict(selector=\"th\", props=[(\"font-size\", \"120%\"),\n",
        "                                                          (\"text-align\", \"center\")])])\n",
        "            .set_properties(**{'background-color': 'honeydew','color': 'black','text-align': \n",
        "                               'center','border-color': 'white'}))   \n",
        "        \n",
        "    #===============================================================================================\n",
        "    \n",
        "    # Funcion \n",
        "    def comparaciones(self):     \n",
        "        M = [\"VaR Suma Simple\", \"VaR Simulación Histórica\",\"VaR Baricentro Promedio Normal\",\n",
        "            \"VaR Baricentro EWMA Normal\",\"VaR Baricentro Promedio T\",\"VaR Baricentro EWMA T\",\n",
        "             \"VaR Matriz VarCovar\"]\n",
        "        g = wg.Grid(2, 1)\n",
        "        with g.output_to(0, 0): \n",
        "            g1 = wg.Grid(1, 2)\n",
        "            with g1.output_to(0, 0): \n",
        "                c = widgets.Checkbox(value=True,description=\"Rendimientos\", disabled=False,indent=True)\n",
        "                X=widgets.RadioButtons(options=[\"alpha=\"+str(i) for i in alpha],description=\" \", disabled=False)\n",
        "                display(c,X)\n",
        "            with g1.output_to(0, 1): \n",
        "                Opt=[]\n",
        "                for i in M:\n",
        "                    Opt += [widgets.Checkbox(value=True,description=i, disabled=False,indent=False)]\n",
        "                    display(Opt[-1])\n",
        "        with g.output_to(1, 0):\n",
        "            g1 = wg.Grid(1, 3)\n",
        "            with g1.output_to(0, 0): \n",
        "                output = widgets.Output()\n",
        "                b1 = widgets.Button(description=\"Gráfico\")\n",
        "                b1.on_click(lambda b: self.on_button_click2(c, X, Opt, output, \"Gráfico\"))\n",
        "                display(b1)\n",
        "            with g1.output_to(0, 1): \n",
        "                b2 = widgets.Button(description=\"Tabla\")\n",
        "                b2.on_click(lambda b: self.on_button_click2(c, X, Opt, output, \"Tabla\"))\n",
        "                display(b2)\n",
        "            with g1.output_to(0, 2): \n",
        "                b3 = widgets.Button(description=\"Descargar Excel\")\n",
        "                b3.on_click(lambda b: self.on_button_click2(c, X, Opt, output, \"Excel\"))\n",
        "                display(b3)\n",
        "        display(output)\n",
        "\n",
        "    #===============================================================================================\n",
        "\n",
        "    # Funcion dar click    \n",
        "    def on_button_click2(self, rent, alpha, met, output, Acto):\n",
        "        with output:\n",
        "            clear_output()\n",
        "            if Acto==\"Gráfico\":\n",
        "                self.grafico2(rent,alpha,met)\n",
        "            elif Acto == \"Tabla\":\n",
        "                df = pd.DataFrame()\n",
        "                df[\"Fechas\"]=self.metodologias.get_fechas()\n",
        "                if rent.value: df[\"Rent\"]=self.metodologias.rend[\"Rent\"][self.metodologias.b:self.metodologias.N].values\n",
        "                if met[0].value: df[\"VaRSumaSimple\"]=self.metodologias.VaRSumaSimplePortafolio()[alpha.value]\n",
        "                if met[1].value: df[\"VaRSimHistorica\"]=self.metodologias.VaRSimulacionHistorica()[alpha.value]\n",
        "                if met[2].value: df[\"VaRBarPromNormal\"]=self.metodologias.VaRBaricentroPromedioNormal()[alpha.value]\n",
        "                if met[3].value: df[\"VaRBarEWMANormal\"]=self.metodologias.VaRBaricentroEWMANormal()[alpha.value]\n",
        "                if met[4].value: df[\"VaRBarPromT\"]=self.metodologias.VaRBaricentroPromedioT()[alpha.value]\n",
        "                if met[5].value: df[\"VaRBarEWMAT\"]=self.metodologias.VaRBaricentroEWMAT()[alpha.value]\n",
        "                if met[6].value: df[\"VaRMatVarCovar\"]=self.metodologias.VaRMatrizVarCovar()[alpha.value]\n",
        "                df[df.columns.difference(['Fechas'])] = (df[df.columns.difference(['Fechas'])]*100).round(6).astype(str) + '%'\n",
        "                d=data_table.DataTable(df, include_index=False, num_rows_per_page=10)\n",
        "                display(d)\n",
        "            else:\n",
        "                df = pd.DataFrame()\n",
        "                df[\"Fechas\"]=self.metodologias.get_fechas()\n",
        "                if rent.value: df[\"Rent\"]=self.metodologias.rend[\"Rent\"][self.metodologias.b:self.metodologias.N]\n",
        "                if met[0].value: df[\"VSumaSimple\"]=self.metodologiasVaRSumaSimplePortafolio()[alpha.value]\n",
        "                if met[1].value: df[\"VSimHistorica\"]=self.metodologias.VaRSimulacionHistorica()[alpha.value]\n",
        "                if met[2].value: df[\"VBarPromNormal\"]=self.metodologias.VaRBaricentroPromedioNormal()[alpha.value]\n",
        "                if met[3].value: df[\"VBarEWMANormal\"]=self.metodologias.VaRBaricentroEWMANormal()[alpha.value]\n",
        "                if met[4].value: df[\"VBarPromT\"]=self.metodologias.VaRBaricentroPromedioT()[alpha.value]\n",
        "                if met[5].value: df[\"VBarEWMAT\"]=self.metodologias.VaRBaricentroEWMAT()[alpha.value]\n",
        "                if met[6].value: df[\"VMatVarCovar\"]=self.metodologias.VaRMatrizVarCovar()[alpha.value]\n",
        "                df.to_excel(\"VaR_output.xlsx\")\n",
        "                files.download(\"VaR_output.xlsx\") \n",
        "\n",
        "    def grafico2(self,rend,alpha,metodos):\n",
        "        plt.figure(figsize=(6,4),dpi=100)\n",
        "        plt.title(\"Gráfico comparativo\", color=\"red\")\n",
        "        if rend.value: plt.plot(self.metodologias.rend[\"Rent\"][self.metodologias.b:self.metodologias.N], label=\"Rentabilidad\")\n",
        "        if metodos[0].value: plt.plot(self.metodologias.VaRSumaSimplePortafolio()[alpha.value], label=\"Suma Simple\")\n",
        "        if metodos[1].value: plt.plot(self.metodologias.VaRSimulacionHistorica()[alpha.value], label=\"Simulación histórica\")\n",
        "        if metodos[2].value: plt.plot(self.metodologias.VaRBaricentroPromedioNormal()[alpha.value], label=\"Baricentro Promedio Normal\")\n",
        "        if metodos[3].value: plt.plot(self.metodologias.VaRBaricentroEWMANormal()[alpha.value], label=\"Baricentro EWMA Normal\")\n",
        "        if metodos[4].value: plt.plot(self.metodologias.VaRBaricentroPromedioT()[alpha.value], label=\"Baricentro Promedio t-student\")\n",
        "        if metodos[5].value: plt.plot(self.metodologias.VaRBaricentroEWMAT()[alpha.value], label=\"Baricentro EWMA t-student\")\n",
        "        if metodos[6].value: plt.plot(self.metodologias.VaRMatrizVarCovar()[alpha.value], label=\"VaR Matriz VarCovar\")\n",
        "        plt.legend(fontsize=7, loc=2)\n",
        "        plt.grid('--', lw=1.3, alpha=0.3)\n",
        "        nn = self.metodologias.periodos-1\n",
        "        lista = np.arange(0, self.metodologias.periodos, nn//8)\n",
        "        labels = self.metodologias.get_fechas()[0:self.metodologias.periodos:nn//8]\n",
        "        plt.xticks(lista, labels, rotation=60)\n",
        "        plt.xlim(0, self.metodologias.periodos-1)\n",
        "        plt.show()"
      ],
      "execution_count": 3,
      "outputs": []
    },
    {
      "cell_type": "markdown",
      "metadata": {
        "id": "90AyC8uUPgDm"
      },
      "source": [
        "## <font color='blue'> **¡Escoge tus acciones!**<font color='red'> "
      ]
    },
    {
      "cell_type": "code",
      "metadata": {
        "cellView": "form",
        "id": "hA6JZuOmAeVO",
        "colab": {
          "base_uri": "https://localhost:8080/"
        },
        "outputId": "fdffc077-22c1-44c6-cf3b-9e9584d83fa5"
      },
      "source": [
        "# Generando cuestioanarios\n",
        "Acciones = \"BA, AMZN, AAPL, AAL, GS\" #@param {type:\"string\"}\n",
        "Montos = \"100, 100, 100, 100, 100\" #@param {type:\"string\"}\n",
        "Desde = '2019-01-01' #@param {type:\"date\"}\n",
        "Hasta = '2021-04-29' #@param {type:\"date\"}\n",
        "#@markdown _________________________________________________________\n",
        "# Para calculo del VaR\n",
        "periodos = 277 # @param {type:\"integer\"}\n",
        "dias_habiles = 252 # @param {type:\"integer\"}\n",
        "alphas = \"0.1,  0.05,  0.025,  0.01\" #@param {type:\"string\"}\n",
        "#===================================================================================================\n",
        "# PROCESAMIENTO DE TEXTO\n",
        "stocks, montos, alpha = [], [], []\n",
        "if Acciones!=\"\": \n",
        "    # Separando por comas\n",
        "    stocks += list(Acciones.split(','))\n",
        "    montos += list(Montos.split(','))\n",
        "    alpha += list(alphas.split(','))\n",
        "    # Removiendo espacios si los hay\n",
        "    stocks = [s.strip() for s in stocks]\n",
        "    montos = [s.strip() for s in montos]\n",
        "    alpha = [s.strip() for s in alpha]\n",
        "    # Convirtiendo a numéricos\n",
        "    try: \n",
        "        montos = [float(s.strip()) for s in montos]\n",
        "        alpha = [float(s.strip()) for s in alpha]\n",
        "    except: \n",
        "        print(\"Los valores a invertir y en alphas deben ser numéricos\")\n",
        "\n",
        "M = metodologia(stocks= stocks, \n",
        "                 dinero = montos,\n",
        "                 desde = Desde, \n",
        "                 hasta = Hasta,\n",
        "                 alphas = alpha)\n",
        "\n",
        "\n",
        "# PRINT RESULTS\n",
        "#------------------------------------------------------------------------------\n",
        "print(\"=====================================================================\")\n",
        "print(\"Inicializando...\")\n",
        "print(\"=====================================================================\")\n",
        "print(\"Dias hábiles:\",dias_habiles, \"(Datos para ventanas móviles)\")\n",
        "print(\"periodos:\",periodos, \"(Datos para el cálculo del VaR)\")\n",
        "print(\"Se tomarán:\", dias_habiles+periodos, \"de\", M.N, \"datos\", \n",
        "      \"(\"+str(np.round((dias_habiles+periodos)/M.N*100, 2))+\"%)\")\n",
        "print(\"=====================================================================\")"
      ],
      "execution_count": 4,
      "outputs": [
        {
          "output_type": "stream",
          "text": [
            "=====================================================================\n",
            "Inicializando...\n",
            "=====================================================================\n",
            "Dias hábiles: 252 (Datos para ventanas móviles)\n",
            "periodos: 277 (Datos para el cálculo del VaR)\n",
            "Se tomarán: 529 de 585 datos (90.43%)\n",
            "=====================================================================\n"
          ],
          "name": "stdout"
        }
      ]
    },
    {
      "cell_type": "code",
      "metadata": {
        "cellView": "form",
        "id": "tEtK8XBELGDF",
        "colab": {
          "resources": {
            "http://localhost:8080/nbextensions/google.colab/tabbar.css": {
              "data": "Lmdvb2ctdGFie3Bvc2l0aW9uOnJlbGF0aXZlO3BhZGRpbmc6NHB4IDhweDtjb2xvcjojMDBjO3RleHQtZGVjb3JhdGlvbjp1bmRlcmxpbmU7Y3Vyc29yOmRlZmF1bHR9Lmdvb2ctdGFiLWJhci10b3AgLmdvb2ctdGFie21hcmdpbjoxcHggNHB4IDAgMDtib3JkZXItYm90dG9tOjA7ZmxvYXQ6bGVmdH0uZ29vZy10YWItYmFyLXRvcDphZnRlciwuZ29vZy10YWItYmFyLWJvdHRvbTphZnRlcntjb250ZW50OiIgIjtkaXNwbGF5OmJsb2NrO2hlaWdodDowO2NsZWFyOmJvdGg7dmlzaWJpbGl0eTpoaWRkZW59Lmdvb2ctdGFiLWJhci1ib3R0b20gLmdvb2ctdGFie21hcmdpbjowIDRweCAxcHggMDtib3JkZXItdG9wOjA7ZmxvYXQ6bGVmdH0uZ29vZy10YWItYmFyLXN0YXJ0IC5nb29nLXRhYnttYXJnaW46MCAwIDRweCAxcHg7Ym9yZGVyLXJpZ2h0OjB9Lmdvb2ctdGFiLWJhci1lbmQgLmdvb2ctdGFie21hcmdpbjowIDFweCA0cHggMDtib3JkZXItbGVmdDowfS5nb29nLXRhYi1ob3ZlcntiYWNrZ3JvdW5kOiNlZWV9Lmdvb2ctdGFiLWRpc2FibGVke2NvbG9yOiM2NjZ9Lmdvb2ctdGFiLXNlbGVjdGVke2NvbG9yOiMwMDA7YmFja2dyb3VuZDojZmZmO3RleHQtZGVjb3JhdGlvbjpub25lO2ZvbnQtd2VpZ2h0OmJvbGQ7Ym9yZGVyOjFweCBzb2xpZCAjNmI5MGRhfS5nb29nLXRhYi1iYXItdG9we3BhZGRpbmctdG9wOjVweCFpbXBvcnRhbnQ7cGFkZGluZy1sZWZ0OjVweCFpbXBvcnRhbnQ7Ym9yZGVyLWJvdHRvbToxcHggc29saWQgIzZiOTBkYSFpbXBvcnRhbnR9Lmdvb2ctdGFiLWJhci10b3AgLmdvb2ctdGFiLXNlbGVjdGVke3RvcDoxcHg7bWFyZ2luLXRvcDowO3BhZGRpbmctYm90dG9tOjVweH0uZ29vZy10YWItYmFyLWJvdHRvbSAuZ29vZy10YWItc2VsZWN0ZWR7dG9wOi0xcHg7bWFyZ2luLWJvdHRvbTowO3BhZGRpbmctdG9wOjVweH0uZ29vZy10YWItYmFyLXN0YXJ0IC5nb29nLXRhYi1zZWxlY3RlZHtsZWZ0OjFweDttYXJnaW4tbGVmdDowO3BhZGRpbmctcmlnaHQ6OXB4fS5nb29nLXRhYi1iYXItZW5kIC5nb29nLXRhYi1zZWxlY3RlZHtsZWZ0Oi0xcHg7bWFyZ2luLXJpZ2h0OjA7cGFkZGluZy1sZWZ0OjlweH0uZ29vZy10YWItYmFye21hcmdpbjowO2JvcmRlcjowO3BhZGRpbmc6MDtsaXN0LXN0eWxlOm5vbmU7Y3Vyc29yOmRlZmF1bHQ7b3V0bGluZTpub25lO2JhY2tncm91bmQ6I2ViZWZmOX0uZ29vZy10YWItYmFyLWNsZWFye2NsZWFyOmJvdGg7aGVpZ2h0OjA7b3ZlcmZsb3c6aGlkZGVufS5nb29nLXRhYi1iYXItc3RhcnR7ZmxvYXQ6bGVmdH0uZ29vZy10YWItYmFyLWVuZHtmbG9hdDpyaWdodH0qIGh0bWwgLmdvb2ctdGFiLWJhci1zdGFydHttYXJnaW4tcmlnaHQ6LTNweH0qIGh0bWwgLmdvb2ctdGFiLWJhci1lbmR7bWFyZ2luLWxlZnQ6LTNweH0=",
              "ok": true,
              "headers": [
                [
                  "content-type",
                  "text/css"
                ]
              ],
              "status": 200,
              "status_text": ""
            },
            "http://localhost:8080/nbextensions/google.colab/tabbar_main.min.js": {
              "data": "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",
              "ok": true,
              "headers": [
                [
                  "content-type",
                  "application/javascript"
                ]
              ],
              "status": 200,
              "status_text": ""
            }
          },
          "base_uri": "https://localhost:8080/",
          "height": 474,
          "referenced_widgets": [
            "a5aaf0596437467e8c06a4710235dabd",
            "b16ad201961044f38d8ec88e064162af",
            "199f3c36c2b5426d8c767f0730e954b0",
            "d9587a2586f14ee29d5dcada995867f7",
            "378418142a704f9c869976f21c3f2652",
            "984cd39b810c4b04a2cc8cab9d6df68b",
            "c2ad07e33d304480a0110d6fe7e4b5c6",
            "d538c7f2dde747378826451d8dac01c3",
            "4553fb42893844a386200abfd65b6bf9",
            "c7c67f99772d47f4a48a7297dd9ca560",
            "e84df747d5554ec9beae5653b1c2a4a3",
            "7b6d662d7dc6401c8f4fe69536918f03",
            "425fe35c39994cadbb849508f8b0f7c0",
            "1aa5537507f9441c973ab633d710d1da",
            "b9920ab288304297831049ac23a49d69",
            "eb041f6b94744c0bac1787956cbc01e1",
            "05940ec3494049798cda0f4c886fb429",
            "e04aa447b27f431cb728c678229e9a8a",
            "0404946070254a51a9305554208e8926",
            "ef63d9050d94425aa20daf44bb73874d",
            "cc14dd4fff6a4716bc9d94dbb1a58581",
            "7903580c9a2c4140ae3bf7f38f50ad65",
            "0db2f1596b3e4dd0859990250b14d423",
            "a6b27f8aebb8431797b161b896845906",
            "3b15148658e04b848fb1b1eb92f4510a",
            "ddc3f677b9f241ccb4e752318d9d5937",
            "9cbc4db84be74931ba821a61b32a1dad",
            "9ad05029d15c433eb78593abf1e0b5ed",
            "1a8fc835f6ec441fa5f860eef1a6f94c",
            "ed93056dcf0b43388109492de6999733",
            "0359f1aa00374c2a8611efb7f4647f18",
            "760f783445ec4177a921fd58d2864925",
            "1141b22389a24b3695d88d71bd14eec4",
            "f895f6de2a9b404bb37857c879189dd0",
            "a322c91227604f20baaddb0c698017e1",
            "5dbe800921e94ddba94e67121d726a70",
            "b4b0653eae274108b49af0cf15d620ac",
            "0f54c56b635946a684acae1cf0ae47ce",
            "63d8de50dbaf426db06773a89e59d95a",
            "d926e96f92cc41ad856c05340732495b",
            "973318241caa46d2acf2d8aee5ca4026",
            "260dc6d9f7074ca196eac7a5a4a2426c",
            "bab9fadbcf654174804feab5e44cce87",
            "9053463d564b4b2882f8c3978c361961",
            "64738d9e37cb49758523cb91b2a3ceb7",
            "96ca5c06f273405abf5b7ecc8d164c49",
            "6c8c6eeecac54c93938dca9a09d5cd77",
            "e785eb10bbc24b2e84f040502d4b6aa5",
            "1b89ae7dc35e42e8b3cae5fb7870b969",
            "cf60618a609f4f50b46706fdfdb57731",
            "ba2f376485e54a58a31f91c848cd50d2",
            "b5c6b66621e14bd4818b540db18b3102",
            "10e33a27400a4d8db988920add52e805",
            "474b5a82604f455c970104b4c867217d",
            "57257274b0cd46c38fc709ba5de159bd",
            "8367c49f7ad6442c8b9711294cc5e529",
            "bd04f6b5d0ba47b5b1c4b0ec7abf503f",
            "0ebfd145842c483cbf4e298a5a5e0fd4",
            "39cd3c332f8842e7ab1a8203b5d6a8d8",
            "e48e14df82cc400bb5f6dc5181cdab40",
            "522a01202644410699ec05980406a2c0",
            "de02d655d1af4d2dbd2cae641495f8e0",
            "9c97988bdfbd4a6b8375d0646ec70484",
            "914fbe4b4cad43529bf6a268478d4ba8",
            "45effbba8e45445bbb8a152ecbcd93fd",
            "8a5478dcf278485aa07ea76ecf161790",
            "cfb404a99dc34b739366ea9f91be90e1",
            "867ad37e13874adaa19a38ab6ae1731a",
            "f4291773ef604fb0a8d68ef2a9319f67"
          ]
        },
        "outputId": "250808fc-7bcc-4eed-9b4f-8da74eec2f34"
      },
      "source": [
        "#@title ##<font color='blue'> **¡Observa los resultados!** </font> { run: \"auto\" }\n",
        "\n",
        "tb = wg.TabBar([\"Composición\", \"VaR Individual\", \"VaR Portafolio\", \n",
        "                \"Comparaciones\"])\n",
        "v = VENTANA(M)\n",
        "\n",
        "with tb.output_to(1):\n",
        "  v.VarIndividual()\n",
        "\n",
        "with tb.output_to(2):\n",
        "  v.VarPortafolio()\n",
        "\n",
        "with tb.output_to(3):\n",
        "  v.comparaciones()\n",
        "\n",
        "with tb.output_to(0):\n",
        "  v.composicion()"
      ],
      "execution_count": 5,
      "outputs": [
        {
          "output_type": "display_data",
          "data": {
            "text/html": [
              "<link rel=stylesheet type=text/css href='/nbextensions/google.colab/tabbar.css'></link>"
            ],
            "text/plain": [
              "<IPython.core.display.HTML object>"
            ]
          },
          "metadata": {
            "tags": [
              "outputarea_id1"
            ]
          }
        },
        {
          "output_type": "display_data",
          "data": {
            "text/html": [
              "<script src='/nbextensions/google.colab/tabbar_main.min.js'></script>"
            ],
            "text/plain": [
              "<IPython.core.display.HTML object>"
            ]
          },
          "metadata": {
            "tags": [
              "outputarea_id1"
            ]
          }
        },
        {
          "output_type": "display_data",
          "data": {
            "text/html": [
              "<div id=\"id1\"></div>"
            ],
            "text/plain": [
              "<IPython.core.display.HTML object>"
            ]
          },
          "metadata": {
            "tags": [
              "outputarea_id1"
            ]
          }
        },
        {
          "output_type": "display_data",
          "data": {
            "application/javascript": [
              "window[\"ae6969fe-a97f-11eb-a006-0242ac1c0002\"] = colab_lib.createTabBar({\"location\": \"top\", \"elementId\": \"id1\", \"tabNames\": [\"Composici\\u00f3n\", \"VaR Individual\", \"VaR Portafolio\", \"Comparaciones\"], \"initialSelection\": 0, \"contentBorder\": [\"0px\"], \"contentHeight\": [\"initial\"], \"borderColor\": [\"#a7a7a7\"]});\n",
              "//# sourceURL=js_88f0ff71f8"
            ],
            "text/plain": [
              "<IPython.core.display.Javascript object>"
            ]
          },
          "metadata": {
            "tags": [
              "outputarea_id1"
            ]
          }
        },
        {
          "output_type": "display_data",
          "data": {
            "application/javascript": [
              "window[\"ae69e65e-a97f-11eb-a006-0242ac1c0002\"] = window[\"id1\"].setSelectedTabIndex(0);\n",
              "//# sourceURL=js_7d0ef544e5"
            ],
            "text/plain": [
              "<IPython.core.display.Javascript object>"
            ]
          },
          "metadata": {
            "tags": [
              "outputarea_id1"
            ]
          }
        },
        {
          "output_type": "display_data",
          "data": {
            "application/javascript": [
              "window[\"ae6c786a-a97f-11eb-a006-0242ac1c0002\"] = google.colab.output.getActiveOutputArea();\n",
              "//# sourceURL=js_2a09f56045"
            ],
            "text/plain": [
              "<IPython.core.display.Javascript object>"
            ]
          },
          "metadata": {
            "tags": [
              "id1_content_1",
              "outputarea_id1"
            ]
          }
        },
        {
          "output_type": "display_data",
          "data": {
            "application/javascript": [
              "window[\"ae6d0190-a97f-11eb-a006-0242ac1c0002\"] = document.querySelector(\"#id1_content_1\");\n",
              "//# sourceURL=js_244d8cf817"
            ],
            "text/plain": [
              "<IPython.core.display.Javascript object>"
            ]
          },
          "metadata": {
            "tags": [
              "id1_content_1",
              "outputarea_id1"
            ]
          }
        },
        {
          "output_type": "display_data",
          "data": {
            "application/javascript": [
              "window[\"ae6d60c2-a97f-11eb-a006-0242ac1c0002\"] = google.colab.output.setActiveOutputArea(window[\"ae6d0190-a97f-11eb-a006-0242ac1c0002\"]);\n",
              "//# sourceURL=js_da90279eed"
            ],
            "text/plain": [
              "<IPython.core.display.Javascript object>"
            ]
          },
          "metadata": {
            "tags": [
              "id1_content_1",
              "outputarea_id1"
            ]
          }
        },
        {
          "output_type": "display_data",
          "data": {
            "application/javascript": [
              "window[\"ae6de6aa-a97f-11eb-a006-0242ac1c0002\"] = window[\"id1\"].setSelectedTabIndex(1);\n",
              "//# sourceURL=js_66f486b220"
            ],
            "text/plain": [
              "<IPython.core.display.Javascript object>"
            ]
          },
          "metadata": {
            "tags": [
              "id1_content_1",
              "outputarea_id1"
            ]
          }
        },
        {
          "output_type": "display_data",
          "data": {
            "text/html": [
              "<style>\n",
              "       table#id3, #id3 > tbody > tr > th, #id3 > tbody > tr > td {\n",
              "         border: 1px solid lightgray;\n",
              "         border-collapse:collapse;\n",
              "         \n",
              "        }</style>"
            ],
            "text/plain": [
              "<IPython.core.display.HTML object>"
            ]
          },
          "metadata": {
            "tags": [
              "id1_content_1",
              "outputarea_id1",
              "outputarea_id3",
              "user_output"
            ]
          }
        },
        {
          "output_type": "display_data",
          "data": {
            "text/html": [
              "<table id=id3><tr><td id=id3-0-0></td></tr><tr><td id=id3-1-0></td></tr></table>"
            ],
            "text/plain": [
              "<IPython.core.display.HTML object>"
            ]
          },
          "metadata": {
            "tags": [
              "id1_content_1",
              "outputarea_id1",
              "outputarea_id3",
              "user_output"
            ]
          }
        },
        {
          "output_type": "display_data",
          "data": {
            "application/javascript": [
              "window[\"ae7fb5f6-a97f-11eb-a006-0242ac1c0002\"] = google.colab.output.getActiveOutputArea();\n",
              "//# sourceURL=js_ef5aa5eee9"
            ],
            "text/plain": [
              "<IPython.core.display.Javascript object>"
            ]
          },
          "metadata": {
            "tags": [
              "id1_content_1",
              "id3-0-0",
              "outputarea_id1",
              "outputarea_id3",
              "user_output"
            ]
          }
        },
        {
          "output_type": "display_data",
          "data": {
            "application/javascript": [
              "window[\"ae803602-a97f-11eb-a006-0242ac1c0002\"] = document.querySelector(\"#id3-0-0\");\n",
              "//# sourceURL=js_4d161214fe"
            ],
            "text/plain": [
              "<IPython.core.display.Javascript object>"
            ]
          },
          "metadata": {
            "tags": [
              "id1_content_1",
              "id3-0-0",
              "outputarea_id1",
              "outputarea_id3",
              "user_output"
            ]
          }
        },
        {
          "output_type": "display_data",
          "data": {
            "application/javascript": [
              "window[\"ae80ad3a-a97f-11eb-a006-0242ac1c0002\"] = google.colab.output.setActiveOutputArea(window[\"ae803602-a97f-11eb-a006-0242ac1c0002\"]);\n",
              "//# sourceURL=js_0a69d64d5f"
            ],
            "text/plain": [
              "<IPython.core.display.Javascript object>"
            ]
          },
          "metadata": {
            "tags": [
              "id1_content_1",
              "id3-0-0",
              "outputarea_id1",
              "outputarea_id3",
              "user_output"
            ]
          }
        },
        {
          "output_type": "display_data",
          "data": {
            "application/vnd.jupyter.widget-view+json": {
              "model_id": "a5aaf0596437467e8c06a4710235dabd",
              "version_minor": 0,
              "version_major": 2
            },
            "text/plain": [
              "Dropdown(description='Metodología:', options=('VaR Delta Normal', 'VaR Simulacion Historica Univariada', 'VaR …"
            ]
          },
          "metadata": {
            "tags": [
              "id1_content_1",
              "id3-0-0",
              "outputarea_id1",
              "outputarea_id3",
              "user_output"
            ]
          }
        },
        {
          "output_type": "display_data",
          "data": {
            "application/vnd.jupyter.widget-view+json": {
              "model_id": "d9587a2586f14ee29d5dcada995867f7",
              "version_minor": 0,
              "version_major": 2
            },
            "text/plain": [
              "Dropdown(description='Acción:', options=('BA', 'AMZN', 'AAPL', 'AAL', 'GS'), value='BA')"
            ]
          },
          "metadata": {
            "tags": [
              "id1_content_1",
              "id3-0-0",
              "outputarea_id1",
              "outputarea_id3",
              "user_output"
            ]
          }
        },
        {
          "output_type": "display_data",
          "data": {
            "application/javascript": [
              "window[\"ae849594-a97f-11eb-a006-0242ac1c0002\"] = google.colab.output.setActiveOutputArea(window[\"ae7fb5f6-a97f-11eb-a006-0242ac1c0002\"]);\n",
              "//# sourceURL=js_9f37439186"
            ],
            "text/plain": [
              "<IPython.core.display.Javascript object>"
            ]
          },
          "metadata": {
            "tags": [
              "id1_content_1",
              "id3-0-0",
              "outputarea_id1",
              "outputarea_id3",
              "user_output"
            ]
          }
        },
        {
          "output_type": "display_data",
          "data": {
            "application/javascript": [
              "window[\"ae86ef2e-a97f-11eb-a006-0242ac1c0002\"] = google.colab.output.getActiveOutputArea();\n",
              "//# sourceURL=js_ba7639ca39"
            ],
            "text/plain": [
              "<IPython.core.display.Javascript object>"
            ]
          },
          "metadata": {
            "tags": [
              "id1_content_1",
              "id3-1-0",
              "outputarea_id1",
              "outputarea_id3",
              "user_output"
            ]
          }
        },
        {
          "output_type": "display_data",
          "data": {
            "application/javascript": [
              "window[\"ae8754fa-a97f-11eb-a006-0242ac1c0002\"] = document.querySelector(\"#id3-1-0\");\n",
              "//# sourceURL=js_08f2d8ff3e"
            ],
            "text/plain": [
              "<IPython.core.display.Javascript object>"
            ]
          },
          "metadata": {
            "tags": [
              "id1_content_1",
              "id3-1-0",
              "outputarea_id1",
              "outputarea_id3",
              "user_output"
            ]
          }
        },
        {
          "output_type": "display_data",
          "data": {
            "application/javascript": [
              "window[\"ae87a180-a97f-11eb-a006-0242ac1c0002\"] = google.colab.output.setActiveOutputArea(window[\"ae8754fa-a97f-11eb-a006-0242ac1c0002\"]);\n",
              "//# sourceURL=js_19bd316533"
            ],
            "text/plain": [
              "<IPython.core.display.Javascript object>"
            ]
          },
          "metadata": {
            "tags": [
              "id1_content_1",
              "id3-1-0",
              "outputarea_id1",
              "outputarea_id3",
              "user_output"
            ]
          }
        },
        {
          "output_type": "display_data",
          "data": {
            "text/html": [
              "<style>\n",
              "       table#id5, #id5 > tbody > tr > th, #id5 > tbody > tr > td {\n",
              "         border: 1px solid lightgray;\n",
              "         border-collapse:collapse;\n",
              "         \n",
              "        }</style>"
            ],
            "text/plain": [
              "<IPython.core.display.HTML object>"
            ]
          },
          "metadata": {
            "tags": [
              "id1_content_1",
              "id3-1-0",
              "outputarea_id1",
              "outputarea_id3",
              "outputarea_id5",
              "user_output"
            ]
          }
        },
        {
          "output_type": "display_data",
          "data": {
            "text/html": [
              "<table id=id5><tr><td id=id5-0-0></td><td id=id5-0-1></td><td id=id5-0-2></td></tr></table>"
            ],
            "text/plain": [
              "<IPython.core.display.HTML object>"
            ]
          },
          "metadata": {
            "tags": [
              "id1_content_1",
              "id3-1-0",
              "outputarea_id1",
              "outputarea_id3",
              "outputarea_id5",
              "user_output"
            ]
          }
        },
        {
          "output_type": "display_data",
          "data": {
            "application/javascript": [
              "window[\"ae8b74f4-a97f-11eb-a006-0242ac1c0002\"] = google.colab.output.getActiveOutputArea();\n",
              "//# sourceURL=js_194294edd2"
            ],
            "text/plain": [
              "<IPython.core.display.Javascript object>"
            ]
          },
          "metadata": {
            "tags": [
              "id1_content_1",
              "id3-1-0",
              "id5-0-0",
              "outputarea_id1",
              "outputarea_id3",
              "outputarea_id5",
              "user_output"
            ]
          }
        },
        {
          "output_type": "display_data",
          "data": {
            "application/javascript": [
              "window[\"ae8beae2-a97f-11eb-a006-0242ac1c0002\"] = document.querySelector(\"#id5-0-0\");\n",
              "//# sourceURL=js_bb907711b3"
            ],
            "text/plain": [
              "<IPython.core.display.Javascript object>"
            ]
          },
          "metadata": {
            "tags": [
              "id1_content_1",
              "id3-1-0",
              "id5-0-0",
              "outputarea_id1",
              "outputarea_id3",
              "outputarea_id5",
              "user_output"
            ]
          }
        },
        {
          "output_type": "display_data",
          "data": {
            "application/javascript": [
              "window[\"ae8c4e74-a97f-11eb-a006-0242ac1c0002\"] = google.colab.output.setActiveOutputArea(window[\"ae8beae2-a97f-11eb-a006-0242ac1c0002\"]);\n",
              "//# sourceURL=js_72154d4abf"
            ],
            "text/plain": [
              "<IPython.core.display.Javascript object>"
            ]
          },
          "metadata": {
            "tags": [
              "id1_content_1",
              "id3-1-0",
              "id5-0-0",
              "outputarea_id1",
              "outputarea_id3",
              "outputarea_id5",
              "user_output"
            ]
          }
        },
        {
          "output_type": "display_data",
          "data": {
            "application/vnd.jupyter.widget-view+json": {
              "model_id": "c2ad07e33d304480a0110d6fe7e4b5c6",
              "version_minor": 0,
              "version_major": 2
            },
            "text/plain": [
              "Button(description='Tabla', style=ButtonStyle())"
            ]
          },
          "metadata": {
            "tags": [
              "id1_content_1",
              "id3-1-0",
              "id5-0-0",
              "outputarea_id1",
              "outputarea_id3",
              "outputarea_id5",
              "user_output"
            ]
          }
        },
        {
          "output_type": "display_data",
          "data": {
            "application/javascript": [
              "window[\"ae8e6d8a-a97f-11eb-a006-0242ac1c0002\"] = google.colab.output.setActiveOutputArea(window[\"ae8b74f4-a97f-11eb-a006-0242ac1c0002\"]);\n",
              "//# sourceURL=js_a64e43f0f9"
            ],
            "text/plain": [
              "<IPython.core.display.Javascript object>"
            ]
          },
          "metadata": {
            "tags": [
              "id1_content_1",
              "id3-1-0",
              "id5-0-0",
              "outputarea_id1",
              "outputarea_id3",
              "outputarea_id5",
              "user_output"
            ]
          }
        },
        {
          "output_type": "display_data",
          "data": {
            "application/javascript": [
              "window[\"ae9010c2-a97f-11eb-a006-0242ac1c0002\"] = google.colab.output.getActiveOutputArea();\n",
              "//# sourceURL=js_205badf0e8"
            ],
            "text/plain": [
              "<IPython.core.display.Javascript object>"
            ]
          },
          "metadata": {
            "tags": [
              "id1_content_1",
              "id3-1-0",
              "id5-0-1",
              "outputarea_id1",
              "outputarea_id3",
              "outputarea_id5",
              "user_output"
            ]
          }
        },
        {
          "output_type": "display_data",
          "data": {
            "application/javascript": [
              "window[\"ae907b84-a97f-11eb-a006-0242ac1c0002\"] = document.querySelector(\"#id5-0-1\");\n",
              "//# sourceURL=js_a3e6223a04"
            ],
            "text/plain": [
              "<IPython.core.display.Javascript object>"
            ]
          },
          "metadata": {
            "tags": [
              "id1_content_1",
              "id3-1-0",
              "id5-0-1",
              "outputarea_id1",
              "outputarea_id3",
              "outputarea_id5",
              "user_output"
            ]
          }
        },
        {
          "output_type": "display_data",
          "data": {
            "application/javascript": [
              "window[\"ae90db42-a97f-11eb-a006-0242ac1c0002\"] = google.colab.output.setActiveOutputArea(window[\"ae907b84-a97f-11eb-a006-0242ac1c0002\"]);\n",
              "//# sourceURL=js_0c41cec3e1"
            ],
            "text/plain": [
              "<IPython.core.display.Javascript object>"
            ]
          },
          "metadata": {
            "tags": [
              "id1_content_1",
              "id3-1-0",
              "id5-0-1",
              "outputarea_id1",
              "outputarea_id3",
              "outputarea_id5",
              "user_output"
            ]
          }
        },
        {
          "output_type": "display_data",
          "data": {
            "application/vnd.jupyter.widget-view+json": {
              "model_id": "c7c67f99772d47f4a48a7297dd9ca560",
              "version_minor": 0,
              "version_major": 2
            },
            "text/plain": [
              "Button(description='Gráfico', style=ButtonStyle())"
            ]
          },
          "metadata": {
            "tags": [
              "id1_content_1",
              "id3-1-0",
              "id5-0-1",
              "outputarea_id1",
              "outputarea_id3",
              "outputarea_id5",
              "user_output"
            ]
          }
        },
        {
          "output_type": "display_data",
          "data": {
            "application/javascript": [
              "window[\"ae926926-a97f-11eb-a006-0242ac1c0002\"] = google.colab.output.setActiveOutputArea(window[\"ae9010c2-a97f-11eb-a006-0242ac1c0002\"]);\n",
              "//# sourceURL=js_be63b2b079"
            ],
            "text/plain": [
              "<IPython.core.display.Javascript object>"
            ]
          },
          "metadata": {
            "tags": [
              "id1_content_1",
              "id3-1-0",
              "id5-0-1",
              "outputarea_id1",
              "outputarea_id3",
              "outputarea_id5",
              "user_output"
            ]
          }
        },
        {
          "output_type": "display_data",
          "data": {
            "application/javascript": [
              "window[\"ae93febc-a97f-11eb-a006-0242ac1c0002\"] = google.colab.output.getActiveOutputArea();\n",
              "//# sourceURL=js_a7192f54e0"
            ],
            "text/plain": [
              "<IPython.core.display.Javascript object>"
            ]
          },
          "metadata": {
            "tags": [
              "id1_content_1",
              "id3-1-0",
              "id5-0-2",
              "outputarea_id1",
              "outputarea_id3",
              "outputarea_id5",
              "user_output"
            ]
          }
        },
        {
          "output_type": "display_data",
          "data": {
            "application/javascript": [
              "window[\"ae9441e2-a97f-11eb-a006-0242ac1c0002\"] = document.querySelector(\"#id5-0-2\");\n",
              "//# sourceURL=js_aa335a2d80"
            ],
            "text/plain": [
              "<IPython.core.display.Javascript object>"
            ]
          },
          "metadata": {
            "tags": [
              "id1_content_1",
              "id3-1-0",
              "id5-0-2",
              "outputarea_id1",
              "outputarea_id3",
              "outputarea_id5",
              "user_output"
            ]
          }
        },
        {
          "output_type": "display_data",
          "data": {
            "application/javascript": [
              "window[\"ae9496a6-a97f-11eb-a006-0242ac1c0002\"] = google.colab.output.setActiveOutputArea(window[\"ae9441e2-a97f-11eb-a006-0242ac1c0002\"]);\n",
              "//# sourceURL=js_512c757730"
            ],
            "text/plain": [
              "<IPython.core.display.Javascript object>"
            ]
          },
          "metadata": {
            "tags": [
              "id1_content_1",
              "id3-1-0",
              "id5-0-2",
              "outputarea_id1",
              "outputarea_id3",
              "outputarea_id5",
              "user_output"
            ]
          }
        },
        {
          "output_type": "display_data",
          "data": {
            "application/vnd.jupyter.widget-view+json": {
              "model_id": "425fe35c39994cadbb849508f8b0f7c0",
              "version_minor": 0,
              "version_major": 2
            },
            "text/plain": [
              "Button(description='Descargar archivo excel', style=ButtonStyle())"
            ]
          },
          "metadata": {
            "tags": [
              "id1_content_1",
              "id3-1-0",
              "id5-0-2",
              "outputarea_id1",
              "outputarea_id3",
              "outputarea_id5",
              "user_output"
            ]
          }
        },
        {
          "output_type": "display_data",
          "data": {
            "application/javascript": [
              "window[\"ae967804-a97f-11eb-a006-0242ac1c0002\"] = google.colab.output.setActiveOutputArea(window[\"ae93febc-a97f-11eb-a006-0242ac1c0002\"]);\n",
              "//# sourceURL=js_98552bcd9b"
            ],
            "text/plain": [
              "<IPython.core.display.Javascript object>"
            ]
          },
          "metadata": {
            "tags": [
              "id1_content_1",
              "id3-1-0",
              "id5-0-2",
              "outputarea_id1",
              "outputarea_id3",
              "outputarea_id5",
              "user_output"
            ]
          }
        },
        {
          "output_type": "display_data",
          "data": {
            "application/javascript": [
              "window[\"ae987b54-a97f-11eb-a006-0242ac1c0002\"] = google.colab.output.setActiveOutputArea(window[\"ae86ef2e-a97f-11eb-a006-0242ac1c0002\"]);\n",
              "//# sourceURL=js_7c2fd07af1"
            ],
            "text/plain": [
              "<IPython.core.display.Javascript object>"
            ]
          },
          "metadata": {
            "tags": [
              "id1_content_1",
              "id3-1-0",
              "outputarea_id1",
              "outputarea_id3",
              "user_output"
            ]
          }
        },
        {
          "output_type": "display_data",
          "data": {
            "application/vnd.jupyter.widget-view+json": {
              "model_id": "eb041f6b94744c0bac1787956cbc01e1",
              "version_minor": 0,
              "version_major": 2
            },
            "text/plain": [
              "Output()"
            ]
          },
          "metadata": {
            "tags": [
              "id1_content_1",
              "outputarea_id1",
              "user_output"
            ]
          }
        },
        {
          "output_type": "display_data",
          "data": {
            "application/javascript": [
              "window[\"ae9aee0c-a97f-11eb-a006-0242ac1c0002\"] = google.colab.output.setActiveOutputArea(window[\"ae6c786a-a97f-11eb-a006-0242ac1c0002\"]);\n",
              "//# sourceURL=js_d0def5bfc1"
            ],
            "text/plain": [
              "<IPython.core.display.Javascript object>"
            ]
          },
          "metadata": {
            "tags": [
              "id1_content_1",
              "outputarea_id1"
            ]
          }
        },
        {
          "output_type": "display_data",
          "data": {
            "application/javascript": [
              "window[\"ae9cc010-a97f-11eb-a006-0242ac1c0002\"] = google.colab.output.getActiveOutputArea();\n",
              "//# sourceURL=js_a0b610abcc"
            ],
            "text/plain": [
              "<IPython.core.display.Javascript object>"
            ]
          },
          "metadata": {
            "tags": [
              "id1_content_2",
              "outputarea_id1"
            ]
          }
        },
        {
          "output_type": "display_data",
          "data": {
            "application/javascript": [
              "window[\"ae9d1ca4-a97f-11eb-a006-0242ac1c0002\"] = document.querySelector(\"#id1_content_2\");\n",
              "//# sourceURL=js_392d0db70b"
            ],
            "text/plain": [
              "<IPython.core.display.Javascript object>"
            ]
          },
          "metadata": {
            "tags": [
              "id1_content_2",
              "outputarea_id1"
            ]
          }
        },
        {
          "output_type": "display_data",
          "data": {
            "application/javascript": [
              "window[\"ae9d8310-a97f-11eb-a006-0242ac1c0002\"] = google.colab.output.setActiveOutputArea(window[\"ae9d1ca4-a97f-11eb-a006-0242ac1c0002\"]);\n",
              "//# sourceURL=js_9351c2275a"
            ],
            "text/plain": [
              "<IPython.core.display.Javascript object>"
            ]
          },
          "metadata": {
            "tags": [
              "id1_content_2",
              "outputarea_id1"
            ]
          }
        },
        {
          "output_type": "display_data",
          "data": {
            "application/javascript": [
              "window[\"ae9e21ee-a97f-11eb-a006-0242ac1c0002\"] = window[\"id1\"].setSelectedTabIndex(2);\n",
              "//# sourceURL=js_b8bdd8b0d9"
            ],
            "text/plain": [
              "<IPython.core.display.Javascript object>"
            ]
          },
          "metadata": {
            "tags": [
              "id1_content_2",
              "outputarea_id1"
            ]
          }
        },
        {
          "output_type": "display_data",
          "data": {
            "text/html": [
              "<style>\n",
              "       table#id7, #id7 > tbody > tr > th, #id7 > tbody > tr > td {\n",
              "         border: 1px solid lightgray;\n",
              "         border-collapse:collapse;\n",
              "         \n",
              "        }</style>"
            ],
            "text/plain": [
              "<IPython.core.display.HTML object>"
            ]
          },
          "metadata": {
            "tags": [
              "id1_content_2",
              "outputarea_id1",
              "outputarea_id7",
              "user_output"
            ]
          }
        },
        {
          "output_type": "display_data",
          "data": {
            "text/html": [
              "<table id=id7><tr><td id=id7-0-0></td></tr><tr><td id=id7-1-0></td></tr></table>"
            ],
            "text/plain": [
              "<IPython.core.display.HTML object>"
            ]
          },
          "metadata": {
            "tags": [
              "id1_content_2",
              "outputarea_id1",
              "outputarea_id7",
              "user_output"
            ]
          }
        },
        {
          "output_type": "display_data",
          "data": {
            "application/javascript": [
              "window[\"aeb40982-a97f-11eb-a006-0242ac1c0002\"] = google.colab.output.getActiveOutputArea();\n",
              "//# sourceURL=js_f117d1b8a7"
            ],
            "text/plain": [
              "<IPython.core.display.Javascript object>"
            ]
          },
          "metadata": {
            "tags": [
              "id1_content_2",
              "id7-0-0",
              "outputarea_id1",
              "outputarea_id7",
              "user_output"
            ]
          }
        },
        {
          "output_type": "display_data",
          "data": {
            "application/javascript": [
              "window[\"aeb46b20-a97f-11eb-a006-0242ac1c0002\"] = document.querySelector(\"#id7-0-0\");\n",
              "//# sourceURL=js_7b722661d8"
            ],
            "text/plain": [
              "<IPython.core.display.Javascript object>"
            ]
          },
          "metadata": {
            "tags": [
              "id1_content_2",
              "id7-0-0",
              "outputarea_id1",
              "outputarea_id7",
              "user_output"
            ]
          }
        },
        {
          "output_type": "display_data",
          "data": {
            "application/javascript": [
              "window[\"aeb4c0ca-a97f-11eb-a006-0242ac1c0002\"] = google.colab.output.setActiveOutputArea(window[\"aeb46b20-a97f-11eb-a006-0242ac1c0002\"]);\n",
              "//# sourceURL=js_f2b2993872"
            ],
            "text/plain": [
              "<IPython.core.display.Javascript object>"
            ]
          },
          "metadata": {
            "tags": [
              "id1_content_2",
              "id7-0-0",
              "outputarea_id1",
              "outputarea_id7",
              "user_output"
            ]
          }
        },
        {
          "output_type": "display_data",
          "data": {
            "application/vnd.jupyter.widget-view+json": {
              "model_id": "e04aa447b27f431cb728c678229e9a8a",
              "version_minor": 0,
              "version_major": 2
            },
            "text/plain": [
              "Dropdown(description='Metodología:', options=('VaR Suma Simple', 'VaR Baricentro EWMA Normal', 'VaR Baricentro…"
            ]
          },
          "metadata": {
            "tags": [
              "id1_content_2",
              "id7-0-0",
              "outputarea_id1",
              "outputarea_id7",
              "user_output"
            ]
          }
        },
        {
          "output_type": "display_data",
          "data": {
            "application/javascript": [
              "window[\"aeb6da7c-a97f-11eb-a006-0242ac1c0002\"] = google.colab.output.setActiveOutputArea(window[\"aeb40982-a97f-11eb-a006-0242ac1c0002\"]);\n",
              "//# sourceURL=js_3ea68693e2"
            ],
            "text/plain": [
              "<IPython.core.display.Javascript object>"
            ]
          },
          "metadata": {
            "tags": [
              "id1_content_2",
              "id7-0-0",
              "outputarea_id1",
              "outputarea_id7",
              "user_output"
            ]
          }
        },
        {
          "output_type": "display_data",
          "data": {
            "application/javascript": [
              "window[\"aeb95c2a-a97f-11eb-a006-0242ac1c0002\"] = google.colab.output.getActiveOutputArea();\n",
              "//# sourceURL=js_281970da67"
            ],
            "text/plain": [
              "<IPython.core.display.Javascript object>"
            ]
          },
          "metadata": {
            "tags": [
              "id1_content_2",
              "id7-1-0",
              "outputarea_id1",
              "outputarea_id7",
              "user_output"
            ]
          }
        },
        {
          "output_type": "display_data",
          "data": {
            "application/javascript": [
              "window[\"aeb9b31e-a97f-11eb-a006-0242ac1c0002\"] = document.querySelector(\"#id7-1-0\");\n",
              "//# sourceURL=js_fbf037b468"
            ],
            "text/plain": [
              "<IPython.core.display.Javascript object>"
            ]
          },
          "metadata": {
            "tags": [
              "id1_content_2",
              "id7-1-0",
              "outputarea_id1",
              "outputarea_id7",
              "user_output"
            ]
          }
        },
        {
          "output_type": "display_data",
          "data": {
            "application/javascript": [
              "window[\"aeba0c24-a97f-11eb-a006-0242ac1c0002\"] = google.colab.output.setActiveOutputArea(window[\"aeb9b31e-a97f-11eb-a006-0242ac1c0002\"]);\n",
              "//# sourceURL=js_cdac0dfed3"
            ],
            "text/plain": [
              "<IPython.core.display.Javascript object>"
            ]
          },
          "metadata": {
            "tags": [
              "id1_content_2",
              "id7-1-0",
              "outputarea_id1",
              "outputarea_id7",
              "user_output"
            ]
          }
        },
        {
          "output_type": "display_data",
          "data": {
            "text/html": [
              "<style>\n",
              "       table#id9, #id9 > tbody > tr > th, #id9 > tbody > tr > td {\n",
              "         border: 1px solid lightgray;\n",
              "         border-collapse:collapse;\n",
              "         \n",
              "        }</style>"
            ],
            "text/plain": [
              "<IPython.core.display.HTML object>"
            ]
          },
          "metadata": {
            "tags": [
              "id1_content_2",
              "id7-1-0",
              "outputarea_id1",
              "outputarea_id7",
              "outputarea_id9",
              "user_output"
            ]
          }
        },
        {
          "output_type": "display_data",
          "data": {
            "text/html": [
              "<table id=id9><tr><td id=id9-0-0></td><td id=id9-0-1></td><td id=id9-0-2></td></tr></table>"
            ],
            "text/plain": [
              "<IPython.core.display.HTML object>"
            ]
          },
          "metadata": {
            "tags": [
              "id1_content_2",
              "id7-1-0",
              "outputarea_id1",
              "outputarea_id7",
              "outputarea_id9",
              "user_output"
            ]
          }
        },
        {
          "output_type": "display_data",
          "data": {
            "application/javascript": [
              "window[\"aebe8740-a97f-11eb-a006-0242ac1c0002\"] = google.colab.output.getActiveOutputArea();\n",
              "//# sourceURL=js_585f303a6e"
            ],
            "text/plain": [
              "<IPython.core.display.Javascript object>"
            ]
          },
          "metadata": {
            "tags": [
              "id1_content_2",
              "id7-1-0",
              "id9-0-0",
              "outputarea_id1",
              "outputarea_id7",
              "outputarea_id9",
              "user_output"
            ]
          }
        },
        {
          "output_type": "display_data",
          "data": {
            "application/javascript": [
              "window[\"aebedfec-a97f-11eb-a006-0242ac1c0002\"] = document.querySelector(\"#id9-0-0\");\n",
              "//# sourceURL=js_071e0304f3"
            ],
            "text/plain": [
              "<IPython.core.display.Javascript object>"
            ]
          },
          "metadata": {
            "tags": [
              "id1_content_2",
              "id7-1-0",
              "id9-0-0",
              "outputarea_id1",
              "outputarea_id7",
              "outputarea_id9",
              "user_output"
            ]
          }
        },
        {
          "output_type": "display_data",
          "data": {
            "application/javascript": [
              "window[\"aebf8f96-a97f-11eb-a006-0242ac1c0002\"] = google.colab.output.setActiveOutputArea(window[\"aebedfec-a97f-11eb-a006-0242ac1c0002\"]);\n",
              "//# sourceURL=js_33a85e07a3"
            ],
            "text/plain": [
              "<IPython.core.display.Javascript object>"
            ]
          },
          "metadata": {
            "tags": [
              "id1_content_2",
              "id7-1-0",
              "id9-0-0",
              "outputarea_id1",
              "outputarea_id7",
              "outputarea_id9",
              "user_output"
            ]
          }
        },
        {
          "output_type": "display_data",
          "data": {
            "application/vnd.jupyter.widget-view+json": {
              "model_id": "cc14dd4fff6a4716bc9d94dbb1a58581",
              "version_minor": 0,
              "version_major": 2
            },
            "text/plain": [
              "Button(description='Tabla', style=ButtonStyle())"
            ]
          },
          "metadata": {
            "tags": [
              "id1_content_2",
              "id7-1-0",
              "id9-0-0",
              "outputarea_id1",
              "outputarea_id7",
              "outputarea_id9",
              "user_output"
            ]
          }
        },
        {
          "output_type": "display_data",
          "data": {
            "application/javascript": [
              "window[\"aec3b2f6-a97f-11eb-a006-0242ac1c0002\"] = google.colab.output.setActiveOutputArea(window[\"aebe8740-a97f-11eb-a006-0242ac1c0002\"]);\n",
              "//# sourceURL=js_3938a2d9b3"
            ],
            "text/plain": [
              "<IPython.core.display.Javascript object>"
            ]
          },
          "metadata": {
            "tags": [
              "id1_content_2",
              "id7-1-0",
              "id9-0-0",
              "outputarea_id1",
              "outputarea_id7",
              "outputarea_id9",
              "user_output"
            ]
          }
        },
        {
          "output_type": "display_data",
          "data": {
            "application/javascript": [
              "window[\"aec619ba-a97f-11eb-a006-0242ac1c0002\"] = google.colab.output.getActiveOutputArea();\n",
              "//# sourceURL=js_2b68817c0a"
            ],
            "text/plain": [
              "<IPython.core.display.Javascript object>"
            ]
          },
          "metadata": {
            "tags": [
              "id1_content_2",
              "id7-1-0",
              "id9-0-1",
              "outputarea_id1",
              "outputarea_id7",
              "outputarea_id9",
              "user_output"
            ]
          }
        },
        {
          "output_type": "display_data",
          "data": {
            "application/javascript": [
              "window[\"aec6e84a-a97f-11eb-a006-0242ac1c0002\"] = document.querySelector(\"#id9-0-1\");\n",
              "//# sourceURL=js_862aca88bb"
            ],
            "text/plain": [
              "<IPython.core.display.Javascript object>"
            ]
          },
          "metadata": {
            "tags": [
              "id1_content_2",
              "id7-1-0",
              "id9-0-1",
              "outputarea_id1",
              "outputarea_id7",
              "outputarea_id9",
              "user_output"
            ]
          }
        },
        {
          "output_type": "display_data",
          "data": {
            "application/javascript": [
              "window[\"aec768f6-a97f-11eb-a006-0242ac1c0002\"] = google.colab.output.setActiveOutputArea(window[\"aec6e84a-a97f-11eb-a006-0242ac1c0002\"]);\n",
              "//# sourceURL=js_bfdd1f5e92"
            ],
            "text/plain": [
              "<IPython.core.display.Javascript object>"
            ]
          },
          "metadata": {
            "tags": [
              "id1_content_2",
              "id7-1-0",
              "id9-0-1",
              "outputarea_id1",
              "outputarea_id7",
              "outputarea_id9",
              "user_output"
            ]
          }
        },
        {
          "output_type": "display_data",
          "data": {
            "application/vnd.jupyter.widget-view+json": {
              "model_id": "a6b27f8aebb8431797b161b896845906",
              "version_minor": 0,
              "version_major": 2
            },
            "text/plain": [
              "Button(description='Gráfico', style=ButtonStyle())"
            ]
          },
          "metadata": {
            "tags": [
              "id1_content_2",
              "id7-1-0",
              "id9-0-1",
              "outputarea_id1",
              "outputarea_id7",
              "outputarea_id9",
              "user_output"
            ]
          }
        },
        {
          "output_type": "display_data",
          "data": {
            "application/javascript": [
              "window[\"aeca4864-a97f-11eb-a006-0242ac1c0002\"] = google.colab.output.setActiveOutputArea(window[\"aec619ba-a97f-11eb-a006-0242ac1c0002\"]);\n",
              "//# sourceURL=js_c943cd0d8a"
            ],
            "text/plain": [
              "<IPython.core.display.Javascript object>"
            ]
          },
          "metadata": {
            "tags": [
              "id1_content_2",
              "id7-1-0",
              "id9-0-1",
              "outputarea_id1",
              "outputarea_id7",
              "outputarea_id9",
              "user_output"
            ]
          }
        },
        {
          "output_type": "display_data",
          "data": {
            "application/javascript": [
              "window[\"aecd54d2-a97f-11eb-a006-0242ac1c0002\"] = google.colab.output.getActiveOutputArea();\n",
              "//# sourceURL=js_a1708a2566"
            ],
            "text/plain": [
              "<IPython.core.display.Javascript object>"
            ]
          },
          "metadata": {
            "tags": [
              "id1_content_2",
              "id7-1-0",
              "id9-0-2",
              "outputarea_id1",
              "outputarea_id7",
              "outputarea_id9",
              "user_output"
            ]
          }
        },
        {
          "output_type": "display_data",
          "data": {
            "application/javascript": [
              "window[\"aecdd95c-a97f-11eb-a006-0242ac1c0002\"] = document.querySelector(\"#id9-0-2\");\n",
              "//# sourceURL=js_9dee066d89"
            ],
            "text/plain": [
              "<IPython.core.display.Javascript object>"
            ]
          },
          "metadata": {
            "tags": [
              "id1_content_2",
              "id7-1-0",
              "id9-0-2",
              "outputarea_id1",
              "outputarea_id7",
              "outputarea_id9",
              "user_output"
            ]
          }
        },
        {
          "output_type": "display_data",
          "data": {
            "application/javascript": [
              "window[\"aece3f00-a97f-11eb-a006-0242ac1c0002\"] = google.colab.output.setActiveOutputArea(window[\"aecdd95c-a97f-11eb-a006-0242ac1c0002\"]);\n",
              "//# sourceURL=js_1a759d29e5"
            ],
            "text/plain": [
              "<IPython.core.display.Javascript object>"
            ]
          },
          "metadata": {
            "tags": [
              "id1_content_2",
              "id7-1-0",
              "id9-0-2",
              "outputarea_id1",
              "outputarea_id7",
              "outputarea_id9",
              "user_output"
            ]
          }
        },
        {
          "output_type": "display_data",
          "data": {
            "application/vnd.jupyter.widget-view+json": {
              "model_id": "9cbc4db84be74931ba821a61b32a1dad",
              "version_minor": 0,
              "version_major": 2
            },
            "text/plain": [
              "Button(description='Descargar archivo excel', style=ButtonStyle())"
            ]
          },
          "metadata": {
            "tags": [
              "id1_content_2",
              "id7-1-0",
              "id9-0-2",
              "outputarea_id1",
              "outputarea_id7",
              "outputarea_id9",
              "user_output"
            ]
          }
        },
        {
          "output_type": "display_data",
          "data": {
            "application/javascript": [
              "window[\"aed086ca-a97f-11eb-a006-0242ac1c0002\"] = google.colab.output.setActiveOutputArea(window[\"aecd54d2-a97f-11eb-a006-0242ac1c0002\"]);\n",
              "//# sourceURL=js_44824a0988"
            ],
            "text/plain": [
              "<IPython.core.display.Javascript object>"
            ]
          },
          "metadata": {
            "tags": [
              "id1_content_2",
              "id7-1-0",
              "id9-0-2",
              "outputarea_id1",
              "outputarea_id7",
              "outputarea_id9",
              "user_output"
            ]
          }
        },
        {
          "output_type": "display_data",
          "data": {
            "application/javascript": [
              "window[\"aed2dd08-a97f-11eb-a006-0242ac1c0002\"] = google.colab.output.setActiveOutputArea(window[\"aeb95c2a-a97f-11eb-a006-0242ac1c0002\"]);\n",
              "//# sourceURL=js_1b08c72874"
            ],
            "text/plain": [
              "<IPython.core.display.Javascript object>"
            ]
          },
          "metadata": {
            "tags": [
              "id1_content_2",
              "id7-1-0",
              "outputarea_id1",
              "outputarea_id7",
              "user_output"
            ]
          }
        },
        {
          "output_type": "display_data",
          "data": {
            "application/vnd.jupyter.widget-view+json": {
              "model_id": "ed93056dcf0b43388109492de6999733",
              "version_minor": 0,
              "version_major": 2
            },
            "text/plain": [
              "Output()"
            ]
          },
          "metadata": {
            "tags": [
              "id1_content_2",
              "outputarea_id1",
              "user_output"
            ]
          }
        },
        {
          "output_type": "display_data",
          "data": {
            "application/javascript": [
              "window[\"aed5ce0a-a97f-11eb-a006-0242ac1c0002\"] = google.colab.output.setActiveOutputArea(window[\"ae9cc010-a97f-11eb-a006-0242ac1c0002\"]);\n",
              "//# sourceURL=js_cc1001c7e4"
            ],
            "text/plain": [
              "<IPython.core.display.Javascript object>"
            ]
          },
          "metadata": {
            "tags": [
              "id1_content_2",
              "outputarea_id1"
            ]
          }
        },
        {
          "output_type": "display_data",
          "data": {
            "application/javascript": [
              "window[\"aed999c2-a97f-11eb-a006-0242ac1c0002\"] = google.colab.output.getActiveOutputArea();\n",
              "//# sourceURL=js_444e184605"
            ],
            "text/plain": [
              "<IPython.core.display.Javascript object>"
            ]
          },
          "metadata": {
            "tags": [
              "id1_content_3",
              "outputarea_id1"
            ]
          }
        },
        {
          "output_type": "display_data",
          "data": {
            "application/javascript": [
              "window[\"aeda22e8-a97f-11eb-a006-0242ac1c0002\"] = document.querySelector(\"#id1_content_3\");\n",
              "//# sourceURL=js_56ae51d2fe"
            ],
            "text/plain": [
              "<IPython.core.display.Javascript object>"
            ]
          },
          "metadata": {
            "tags": [
              "id1_content_3",
              "outputarea_id1"
            ]
          }
        },
        {
          "output_type": "display_data",
          "data": {
            "application/javascript": [
              "window[\"aedaa3da-a97f-11eb-a006-0242ac1c0002\"] = google.colab.output.setActiveOutputArea(window[\"aeda22e8-a97f-11eb-a006-0242ac1c0002\"]);\n",
              "//# sourceURL=js_ba5becedb9"
            ],
            "text/plain": [
              "<IPython.core.display.Javascript object>"
            ]
          },
          "metadata": {
            "tags": [
              "id1_content_3",
              "outputarea_id1"
            ]
          }
        },
        {
          "output_type": "display_data",
          "data": {
            "application/javascript": [
              "window[\"aedb213e-a97f-11eb-a006-0242ac1c0002\"] = window[\"id1\"].setSelectedTabIndex(3);\n",
              "//# sourceURL=js_7b14caa42f"
            ],
            "text/plain": [
              "<IPython.core.display.Javascript object>"
            ]
          },
          "metadata": {
            "tags": [
              "id1_content_3",
              "outputarea_id1"
            ]
          }
        },
        {
          "output_type": "display_data",
          "data": {
            "text/html": [
              "<style>\n",
              "       table#id11, #id11 > tbody > tr > th, #id11 > tbody > tr > td {\n",
              "         border: 1px solid lightgray;\n",
              "         border-collapse:collapse;\n",
              "         \n",
              "        }</style>"
            ],
            "text/plain": [
              "<IPython.core.display.HTML object>"
            ]
          },
          "metadata": {
            "tags": [
              "id1_content_3",
              "outputarea_id1",
              "outputarea_id11",
              "user_output"
            ]
          }
        },
        {
          "output_type": "display_data",
          "data": {
            "text/html": [
              "<table id=id11><tr><td id=id11-0-0></td></tr><tr><td id=id11-1-0></td></tr></table>"
            ],
            "text/plain": [
              "<IPython.core.display.HTML object>"
            ]
          },
          "metadata": {
            "tags": [
              "id1_content_3",
              "outputarea_id1",
              "outputarea_id11",
              "user_output"
            ]
          }
        },
        {
          "output_type": "display_data",
          "data": {
            "application/javascript": [
              "window[\"aedfca2c-a97f-11eb-a006-0242ac1c0002\"] = google.colab.output.getActiveOutputArea();\n",
              "//# sourceURL=js_2883291f36"
            ],
            "text/plain": [
              "<IPython.core.display.Javascript object>"
            ]
          },
          "metadata": {
            "tags": [
              "id11-0-0",
              "id1_content_3",
              "outputarea_id1",
              "outputarea_id11",
              "user_output"
            ]
          }
        },
        {
          "output_type": "display_data",
          "data": {
            "application/javascript": [
              "window[\"aee08296-a97f-11eb-a006-0242ac1c0002\"] = document.querySelector(\"#id11-0-0\");\n",
              "//# sourceURL=js_c3d3979afe"
            ],
            "text/plain": [
              "<IPython.core.display.Javascript object>"
            ]
          },
          "metadata": {
            "tags": [
              "id11-0-0",
              "id1_content_3",
              "outputarea_id1",
              "outputarea_id11",
              "user_output"
            ]
          }
        },
        {
          "output_type": "display_data",
          "data": {
            "application/javascript": [
              "window[\"aee10c3e-a97f-11eb-a006-0242ac1c0002\"] = google.colab.output.setActiveOutputArea(window[\"aee08296-a97f-11eb-a006-0242ac1c0002\"]);\n",
              "//# sourceURL=js_7eada1cd05"
            ],
            "text/plain": [
              "<IPython.core.display.Javascript object>"
            ]
          },
          "metadata": {
            "tags": [
              "id11-0-0",
              "id1_content_3",
              "outputarea_id1",
              "outputarea_id11",
              "user_output"
            ]
          }
        },
        {
          "output_type": "display_data",
          "data": {
            "text/html": [
              "<style>\n",
              "       table#id13, #id13 > tbody > tr > th, #id13 > tbody > tr > td {\n",
              "         border: 1px solid lightgray;\n",
              "         border-collapse:collapse;\n",
              "         \n",
              "        }</style>"
            ],
            "text/plain": [
              "<IPython.core.display.HTML object>"
            ]
          },
          "metadata": {
            "tags": [
              "id11-0-0",
              "id1_content_3",
              "outputarea_id1",
              "outputarea_id11",
              "outputarea_id13",
              "user_output"
            ]
          }
        },
        {
          "output_type": "display_data",
          "data": {
            "text/html": [
              "<table id=id13><tr><td id=id13-0-0></td><td id=id13-0-1></td></tr></table>"
            ],
            "text/plain": [
              "<IPython.core.display.HTML object>"
            ]
          },
          "metadata": {
            "tags": [
              "id11-0-0",
              "id1_content_3",
              "outputarea_id1",
              "outputarea_id11",
              "outputarea_id13",
              "user_output"
            ]
          }
        },
        {
          "output_type": "display_data",
          "data": {
            "application/javascript": [
              "window[\"aee86d80-a97f-11eb-a006-0242ac1c0002\"] = google.colab.output.getActiveOutputArea();\n",
              "//# sourceURL=js_e29c18b7fb"
            ],
            "text/plain": [
              "<IPython.core.display.Javascript object>"
            ]
          },
          "metadata": {
            "tags": [
              "id11-0-0",
              "id13-0-0",
              "id1_content_3",
              "outputarea_id1",
              "outputarea_id11",
              "outputarea_id13",
              "user_output"
            ]
          }
        },
        {
          "output_type": "display_data",
          "data": {
            "application/javascript": [
              "window[\"aee90a38-a97f-11eb-a006-0242ac1c0002\"] = document.querySelector(\"#id13-0-0\");\n",
              "//# sourceURL=js_161ea0b8fb"
            ],
            "text/plain": [
              "<IPython.core.display.Javascript object>"
            ]
          },
          "metadata": {
            "tags": [
              "id11-0-0",
              "id13-0-0",
              "id1_content_3",
              "outputarea_id1",
              "outputarea_id11",
              "outputarea_id13",
              "user_output"
            ]
          }
        },
        {
          "output_type": "display_data",
          "data": {
            "application/javascript": [
              "window[\"aee96a3c-a97f-11eb-a006-0242ac1c0002\"] = google.colab.output.setActiveOutputArea(window[\"aee90a38-a97f-11eb-a006-0242ac1c0002\"]);\n",
              "//# sourceURL=js_2f353b28b3"
            ],
            "text/plain": [
              "<IPython.core.display.Javascript object>"
            ]
          },
          "metadata": {
            "tags": [
              "id11-0-0",
              "id13-0-0",
              "id1_content_3",
              "outputarea_id1",
              "outputarea_id11",
              "outputarea_id13",
              "user_output"
            ]
          }
        },
        {
          "output_type": "display_data",
          "data": {
            "application/vnd.jupyter.widget-view+json": {
              "model_id": "760f783445ec4177a921fd58d2864925",
              "version_minor": 0,
              "version_major": 2
            },
            "text/plain": [
              "Checkbox(value=True, description='Rendimientos')"
            ]
          },
          "metadata": {
            "tags": [
              "id11-0-0",
              "id13-0-0",
              "id1_content_3",
              "outputarea_id1",
              "outputarea_id11",
              "outputarea_id13",
              "user_output"
            ]
          }
        },
        {
          "output_type": "display_data",
          "data": {
            "application/vnd.jupyter.widget-view+json": {
              "model_id": "a322c91227604f20baaddb0c698017e1",
              "version_minor": 0,
              "version_major": 2
            },
            "text/plain": [
              "RadioButtons(description=' ', options=('alpha=0.1', 'alpha=0.05', 'alpha=0.025', 'alpha=0.01'), value='alpha=0…"
            ]
          },
          "metadata": {
            "tags": [
              "id11-0-0",
              "id13-0-0",
              "id1_content_3",
              "outputarea_id1",
              "outputarea_id11",
              "outputarea_id13",
              "user_output"
            ]
          }
        },
        {
          "output_type": "display_data",
          "data": {
            "application/javascript": [
              "window[\"aef76f06-a97f-11eb-a006-0242ac1c0002\"] = google.colab.output.setActiveOutputArea(window[\"aee86d80-a97f-11eb-a006-0242ac1c0002\"]);\n",
              "//# sourceURL=js_fb9183e1d8"
            ],
            "text/plain": [
              "<IPython.core.display.Javascript object>"
            ]
          },
          "metadata": {
            "tags": [
              "id11-0-0",
              "id13-0-0",
              "id1_content_3",
              "outputarea_id1",
              "outputarea_id11",
              "outputarea_id13",
              "user_output"
            ]
          }
        },
        {
          "output_type": "display_data",
          "data": {
            "application/javascript": [
              "window[\"af004b3a-a97f-11eb-a006-0242ac1c0002\"] = google.colab.output.getActiveOutputArea();\n",
              "//# sourceURL=js_44bf3c3984"
            ],
            "text/plain": [
              "<IPython.core.display.Javascript object>"
            ]
          },
          "metadata": {
            "tags": [
              "id11-0-0",
              "id13-0-1",
              "id1_content_3",
              "outputarea_id1",
              "outputarea_id11",
              "outputarea_id13",
              "user_output"
            ]
          }
        },
        {
          "output_type": "display_data",
          "data": {
            "application/javascript": [
              "window[\"af017cee-a97f-11eb-a006-0242ac1c0002\"] = document.querySelector(\"#id13-0-1\");\n",
              "//# sourceURL=js_92562866a7"
            ],
            "text/plain": [
              "<IPython.core.display.Javascript object>"
            ]
          },
          "metadata": {
            "tags": [
              "id11-0-0",
              "id13-0-1",
              "id1_content_3",
              "outputarea_id1",
              "outputarea_id11",
              "outputarea_id13",
              "user_output"
            ]
          }
        },
        {
          "output_type": "display_data",
          "data": {
            "application/javascript": [
              "window[\"af02a222-a97f-11eb-a006-0242ac1c0002\"] = google.colab.output.setActiveOutputArea(window[\"af017cee-a97f-11eb-a006-0242ac1c0002\"]);\n",
              "//# sourceURL=js_ebadbb8e07"
            ],
            "text/plain": [
              "<IPython.core.display.Javascript object>"
            ]
          },
          "metadata": {
            "tags": [
              "id11-0-0",
              "id13-0-1",
              "id1_content_3",
              "outputarea_id1",
              "outputarea_id11",
              "outputarea_id13",
              "user_output"
            ]
          }
        },
        {
          "output_type": "display_data",
          "data": {
            "application/vnd.jupyter.widget-view+json": {
              "model_id": "0f54c56b635946a684acae1cf0ae47ce",
              "version_minor": 0,
              "version_major": 2
            },
            "text/plain": [
              "Checkbox(value=True, description='VaR Suma Simple', indent=False)"
            ]
          },
          "metadata": {
            "tags": [
              "id11-0-0",
              "id13-0-1",
              "id1_content_3",
              "outputarea_id1",
              "outputarea_id11",
              "outputarea_id13",
              "user_output"
            ]
          }
        },
        {
          "output_type": "display_data",
          "data": {
            "application/vnd.jupyter.widget-view+json": {
              "model_id": "973318241caa46d2acf2d8aee5ca4026",
              "version_minor": 0,
              "version_major": 2
            },
            "text/plain": [
              "Checkbox(value=True, description='VaR Simulación Histórica', indent=False)"
            ]
          },
          "metadata": {
            "tags": [
              "id11-0-0",
              "id13-0-1",
              "id1_content_3",
              "outputarea_id1",
              "outputarea_id11",
              "outputarea_id13",
              "user_output"
            ]
          }
        },
        {
          "output_type": "display_data",
          "data": {
            "application/vnd.jupyter.widget-view+json": {
              "model_id": "9053463d564b4b2882f8c3978c361961",
              "version_minor": 0,
              "version_major": 2
            },
            "text/plain": [
              "Checkbox(value=True, description='VaR Baricentro Promedio Normal', indent=False)"
            ]
          },
          "metadata": {
            "tags": [
              "id11-0-0",
              "id13-0-1",
              "id1_content_3",
              "outputarea_id1",
              "outputarea_id11",
              "outputarea_id13",
              "user_output"
            ]
          }
        },
        {
          "output_type": "display_data",
          "data": {
            "application/vnd.jupyter.widget-view+json": {
              "model_id": "6c8c6eeecac54c93938dca9a09d5cd77",
              "version_minor": 0,
              "version_major": 2
            },
            "text/plain": [
              "Checkbox(value=True, description='VaR Baricentro EWMA Normal', indent=False)"
            ]
          },
          "metadata": {
            "tags": [
              "id11-0-0",
              "id13-0-1",
              "id1_content_3",
              "outputarea_id1",
              "outputarea_id11",
              "outputarea_id13",
              "user_output"
            ]
          }
        },
        {
          "output_type": "display_data",
          "data": {
            "application/vnd.jupyter.widget-view+json": {
              "model_id": "cf60618a609f4f50b46706fdfdb57731",
              "version_minor": 0,
              "version_major": 2
            },
            "text/plain": [
              "Checkbox(value=True, description='VaR Baricentro Promedio T', indent=False)"
            ]
          },
          "metadata": {
            "tags": [
              "id11-0-0",
              "id13-0-1",
              "id1_content_3",
              "outputarea_id1",
              "outputarea_id11",
              "outputarea_id13",
              "user_output"
            ]
          }
        },
        {
          "output_type": "display_data",
          "data": {
            "application/vnd.jupyter.widget-view+json": {
              "model_id": "10e33a27400a4d8db988920add52e805",
              "version_minor": 0,
              "version_major": 2
            },
            "text/plain": [
              "Checkbox(value=True, description='VaR Baricentro EWMA T', indent=False)"
            ]
          },
          "metadata": {
            "tags": [
              "id11-0-0",
              "id13-0-1",
              "id1_content_3",
              "outputarea_id1",
              "outputarea_id11",
              "outputarea_id13",
              "user_output"
            ]
          }
        },
        {
          "output_type": "display_data",
          "data": {
            "application/vnd.jupyter.widget-view+json": {
              "model_id": "8367c49f7ad6442c8b9711294cc5e529",
              "version_minor": 0,
              "version_major": 2
            },
            "text/plain": [
              "Checkbox(value=True, description='VaR Matriz VarCovar', indent=False)"
            ]
          },
          "metadata": {
            "tags": [
              "id11-0-0",
              "id13-0-1",
              "id1_content_3",
              "outputarea_id1",
              "outputarea_id11",
              "outputarea_id13",
              "user_output"
            ]
          }
        },
        {
          "output_type": "display_data",
          "data": {
            "application/javascript": [
              "window[\"af2b7328-a97f-11eb-a006-0242ac1c0002\"] = google.colab.output.setActiveOutputArea(window[\"af004b3a-a97f-11eb-a006-0242ac1c0002\"]);\n",
              "//# sourceURL=js_751a6d9245"
            ],
            "text/plain": [
              "<IPython.core.display.Javascript object>"
            ]
          },
          "metadata": {
            "tags": [
              "id11-0-0",
              "id13-0-1",
              "id1_content_3",
              "outputarea_id1",
              "outputarea_id11",
              "outputarea_id13",
              "user_output"
            ]
          }
        },
        {
          "output_type": "display_data",
          "data": {
            "application/javascript": [
              "window[\"af304d58-a97f-11eb-a006-0242ac1c0002\"] = google.colab.output.setActiveOutputArea(window[\"aedfca2c-a97f-11eb-a006-0242ac1c0002\"]);\n",
              "//# sourceURL=js_e9dfa71c77"
            ],
            "text/plain": [
              "<IPython.core.display.Javascript object>"
            ]
          },
          "metadata": {
            "tags": [
              "id11-0-0",
              "id1_content_3",
              "outputarea_id1",
              "outputarea_id11",
              "user_output"
            ]
          }
        },
        {
          "output_type": "display_data",
          "data": {
            "application/javascript": [
              "window[\"af3244aa-a97f-11eb-a006-0242ac1c0002\"] = google.colab.output.getActiveOutputArea();\n",
              "//# sourceURL=js_90a45aa06e"
            ],
            "text/plain": [
              "<IPython.core.display.Javascript object>"
            ]
          },
          "metadata": {
            "tags": [
              "id11-1-0",
              "id1_content_3",
              "outputarea_id1",
              "outputarea_id11",
              "user_output"
            ]
          }
        },
        {
          "output_type": "display_data",
          "data": {
            "application/javascript": [
              "window[\"af3292b6-a97f-11eb-a006-0242ac1c0002\"] = document.querySelector(\"#id11-1-0\");\n",
              "//# sourceURL=js_f359c799b6"
            ],
            "text/plain": [
              "<IPython.core.display.Javascript object>"
            ]
          },
          "metadata": {
            "tags": [
              "id11-1-0",
              "id1_content_3",
              "outputarea_id1",
              "outputarea_id11",
              "user_output"
            ]
          }
        },
        {
          "output_type": "display_data",
          "data": {
            "application/javascript": [
              "window[\"af32e02c-a97f-11eb-a006-0242ac1c0002\"] = google.colab.output.setActiveOutputArea(window[\"af3292b6-a97f-11eb-a006-0242ac1c0002\"]);\n",
              "//# sourceURL=js_d6c67a2de3"
            ],
            "text/plain": [
              "<IPython.core.display.Javascript object>"
            ]
          },
          "metadata": {
            "tags": [
              "id11-1-0",
              "id1_content_3",
              "outputarea_id1",
              "outputarea_id11",
              "user_output"
            ]
          }
        },
        {
          "output_type": "display_data",
          "data": {
            "text/html": [
              "<style>\n",
              "       table#id15, #id15 > tbody > tr > th, #id15 > tbody > tr > td {\n",
              "         border: 1px solid lightgray;\n",
              "         border-collapse:collapse;\n",
              "         \n",
              "        }</style>"
            ],
            "text/plain": [
              "<IPython.core.display.HTML object>"
            ]
          },
          "metadata": {
            "tags": [
              "id11-1-0",
              "id1_content_3",
              "outputarea_id1",
              "outputarea_id11",
              "outputarea_id15",
              "user_output"
            ]
          }
        },
        {
          "output_type": "display_data",
          "data": {
            "text/html": [
              "<table id=id15><tr><td id=id15-0-0></td><td id=id15-0-1></td><td id=id15-0-2></td></tr></table>"
            ],
            "text/plain": [
              "<IPython.core.display.HTML object>"
            ]
          },
          "metadata": {
            "tags": [
              "id11-1-0",
              "id1_content_3",
              "outputarea_id1",
              "outputarea_id11",
              "outputarea_id15",
              "user_output"
            ]
          }
        },
        {
          "output_type": "display_data",
          "data": {
            "application/javascript": [
              "window[\"af361120-a97f-11eb-a006-0242ac1c0002\"] = google.colab.output.getActiveOutputArea();\n",
              "//# sourceURL=js_41c2bfb9e5"
            ],
            "text/plain": [
              "<IPython.core.display.Javascript object>"
            ]
          },
          "metadata": {
            "tags": [
              "id11-1-0",
              "id15-0-0",
              "id1_content_3",
              "outputarea_id1",
              "outputarea_id11",
              "outputarea_id15",
              "user_output"
            ]
          }
        },
        {
          "output_type": "display_data",
          "data": {
            "application/javascript": [
              "window[\"af3666ac-a97f-11eb-a006-0242ac1c0002\"] = document.querySelector(\"#id15-0-0\");\n",
              "//# sourceURL=js_4d64c0ac8c"
            ],
            "text/plain": [
              "<IPython.core.display.Javascript object>"
            ]
          },
          "metadata": {
            "tags": [
              "id11-1-0",
              "id15-0-0",
              "id1_content_3",
              "outputarea_id1",
              "outputarea_id11",
              "outputarea_id15",
              "user_output"
            ]
          }
        },
        {
          "output_type": "display_data",
          "data": {
            "application/javascript": [
              "window[\"af36cae8-a97f-11eb-a006-0242ac1c0002\"] = google.colab.output.setActiveOutputArea(window[\"af3666ac-a97f-11eb-a006-0242ac1c0002\"]);\n",
              "//# sourceURL=js_4ccd12adf2"
            ],
            "text/plain": [
              "<IPython.core.display.Javascript object>"
            ]
          },
          "metadata": {
            "tags": [
              "id11-1-0",
              "id15-0-0",
              "id1_content_3",
              "outputarea_id1",
              "outputarea_id11",
              "outputarea_id15",
              "user_output"
            ]
          }
        },
        {
          "output_type": "display_data",
          "data": {
            "application/vnd.jupyter.widget-view+json": {
              "model_id": "39cd3c332f8842e7ab1a8203b5d6a8d8",
              "version_minor": 0,
              "version_major": 2
            },
            "text/plain": [
              "Button(description='Gráfico', style=ButtonStyle())"
            ]
          },
          "metadata": {
            "tags": [
              "id11-1-0",
              "id15-0-0",
              "id1_content_3",
              "outputarea_id1",
              "outputarea_id11",
              "outputarea_id15",
              "user_output"
            ]
          }
        },
        {
          "output_type": "display_data",
          "data": {
            "application/javascript": [
              "window[\"af41f2ba-a97f-11eb-a006-0242ac1c0002\"] = google.colab.output.setActiveOutputArea(window[\"af361120-a97f-11eb-a006-0242ac1c0002\"]);\n",
              "//# sourceURL=js_fa86bce9e6"
            ],
            "text/plain": [
              "<IPython.core.display.Javascript object>"
            ]
          },
          "metadata": {
            "tags": [
              "id11-1-0",
              "id15-0-0",
              "id1_content_3",
              "outputarea_id1",
              "outputarea_id11",
              "outputarea_id15",
              "user_output"
            ]
          }
        },
        {
          "output_type": "display_data",
          "data": {
            "application/javascript": [
              "window[\"af47708c-a97f-11eb-a006-0242ac1c0002\"] = google.colab.output.getActiveOutputArea();\n",
              "//# sourceURL=js_a5838e0b35"
            ],
            "text/plain": [
              "<IPython.core.display.Javascript object>"
            ]
          },
          "metadata": {
            "tags": [
              "id11-1-0",
              "id15-0-1",
              "id1_content_3",
              "outputarea_id1",
              "outputarea_id11",
              "outputarea_id15",
              "user_output"
            ]
          }
        },
        {
          "output_type": "display_data",
          "data": {
            "application/javascript": [
              "window[\"af48628a-a97f-11eb-a006-0242ac1c0002\"] = document.querySelector(\"#id15-0-1\");\n",
              "//# sourceURL=js_7b7e0259f4"
            ],
            "text/plain": [
              "<IPython.core.display.Javascript object>"
            ]
          },
          "metadata": {
            "tags": [
              "id11-1-0",
              "id15-0-1",
              "id1_content_3",
              "outputarea_id1",
              "outputarea_id11",
              "outputarea_id15",
              "user_output"
            ]
          }
        },
        {
          "output_type": "display_data",
          "data": {
            "application/javascript": [
              "window[\"af48cd24-a97f-11eb-a006-0242ac1c0002\"] = google.colab.output.setActiveOutputArea(window[\"af48628a-a97f-11eb-a006-0242ac1c0002\"]);\n",
              "//# sourceURL=js_b12a4b4cf8"
            ],
            "text/plain": [
              "<IPython.core.display.Javascript object>"
            ]
          },
          "metadata": {
            "tags": [
              "id11-1-0",
              "id15-0-1",
              "id1_content_3",
              "outputarea_id1",
              "outputarea_id11",
              "outputarea_id15",
              "user_output"
            ]
          }
        },
        {
          "output_type": "display_data",
          "data": {
            "application/vnd.jupyter.widget-view+json": {
              "model_id": "de02d655d1af4d2dbd2cae641495f8e0",
              "version_minor": 0,
              "version_major": 2
            },
            "text/plain": [
              "Button(description='Tabla', style=ButtonStyle())"
            ]
          },
          "metadata": {
            "tags": [
              "id11-1-0",
              "id15-0-1",
              "id1_content_3",
              "outputarea_id1",
              "outputarea_id11",
              "outputarea_id15",
              "user_output"
            ]
          }
        },
        {
          "output_type": "display_data",
          "data": {
            "application/javascript": [
              "window[\"af4e2616-a97f-11eb-a006-0242ac1c0002\"] = google.colab.output.setActiveOutputArea(window[\"af47708c-a97f-11eb-a006-0242ac1c0002\"]);\n",
              "//# sourceURL=js_8182d34eec"
            ],
            "text/plain": [
              "<IPython.core.display.Javascript object>"
            ]
          },
          "metadata": {
            "tags": [
              "id11-1-0",
              "id15-0-1",
              "id1_content_3",
              "outputarea_id1",
              "outputarea_id11",
              "outputarea_id15",
              "user_output"
            ]
          }
        },
        {
          "output_type": "display_data",
          "data": {
            "application/javascript": [
              "window[\"af504734-a97f-11eb-a006-0242ac1c0002\"] = google.colab.output.getActiveOutputArea();\n",
              "//# sourceURL=js_3f1adaa366"
            ],
            "text/plain": [
              "<IPython.core.display.Javascript object>"
            ]
          },
          "metadata": {
            "tags": [
              "id11-1-0",
              "id15-0-2",
              "id1_content_3",
              "outputarea_id1",
              "outputarea_id11",
              "outputarea_id15",
              "user_output"
            ]
          }
        },
        {
          "output_type": "display_data",
          "data": {
            "application/javascript": [
              "window[\"af509b3a-a97f-11eb-a006-0242ac1c0002\"] = document.querySelector(\"#id15-0-2\");\n",
              "//# sourceURL=js_a6566f4f35"
            ],
            "text/plain": [
              "<IPython.core.display.Javascript object>"
            ]
          },
          "metadata": {
            "tags": [
              "id11-1-0",
              "id15-0-2",
              "id1_content_3",
              "outputarea_id1",
              "outputarea_id11",
              "outputarea_id15",
              "user_output"
            ]
          }
        },
        {
          "output_type": "display_data",
          "data": {
            "application/javascript": [
              "window[\"af50e5ea-a97f-11eb-a006-0242ac1c0002\"] = google.colab.output.setActiveOutputArea(window[\"af509b3a-a97f-11eb-a006-0242ac1c0002\"]);\n",
              "//# sourceURL=js_0048a93f59"
            ],
            "text/plain": [
              "<IPython.core.display.Javascript object>"
            ]
          },
          "metadata": {
            "tags": [
              "id11-1-0",
              "id15-0-2",
              "id1_content_3",
              "outputarea_id1",
              "outputarea_id11",
              "outputarea_id15",
              "user_output"
            ]
          }
        },
        {
          "output_type": "display_data",
          "data": {
            "application/vnd.jupyter.widget-view+json": {
              "model_id": "45effbba8e45445bbb8a152ecbcd93fd",
              "version_minor": 0,
              "version_major": 2
            },
            "text/plain": [
              "Button(description='Descargar Excel', style=ButtonStyle())"
            ]
          },
          "metadata": {
            "tags": [
              "id11-1-0",
              "id15-0-2",
              "id1_content_3",
              "outputarea_id1",
              "outputarea_id11",
              "outputarea_id15",
              "user_output"
            ]
          }
        },
        {
          "output_type": "display_data",
          "data": {
            "application/javascript": [
              "window[\"af567b40-a97f-11eb-a006-0242ac1c0002\"] = google.colab.output.setActiveOutputArea(window[\"af504734-a97f-11eb-a006-0242ac1c0002\"]);\n",
              "//# sourceURL=js_8a438c94a3"
            ],
            "text/plain": [
              "<IPython.core.display.Javascript object>"
            ]
          },
          "metadata": {
            "tags": [
              "id11-1-0",
              "id15-0-2",
              "id1_content_3",
              "outputarea_id1",
              "outputarea_id11",
              "outputarea_id15",
              "user_output"
            ]
          }
        },
        {
          "output_type": "display_data",
          "data": {
            "application/javascript": [
              "window[\"af5866b2-a97f-11eb-a006-0242ac1c0002\"] = google.colab.output.setActiveOutputArea(window[\"af3244aa-a97f-11eb-a006-0242ac1c0002\"]);\n",
              "//# sourceURL=js_ce2576d160"
            ],
            "text/plain": [
              "<IPython.core.display.Javascript object>"
            ]
          },
          "metadata": {
            "tags": [
              "id11-1-0",
              "id1_content_3",
              "outputarea_id1",
              "outputarea_id11",
              "user_output"
            ]
          }
        },
        {
          "output_type": "display_data",
          "data": {
            "application/vnd.jupyter.widget-view+json": {
              "model_id": "867ad37e13874adaa19a38ab6ae1731a",
              "version_minor": 0,
              "version_major": 2
            },
            "text/plain": [
              "Output()"
            ]
          },
          "metadata": {
            "tags": [
              "id1_content_3",
              "outputarea_id1",
              "user_output"
            ]
          }
        },
        {
          "output_type": "display_data",
          "data": {
            "application/javascript": [
              "window[\"af5a3e74-a97f-11eb-a006-0242ac1c0002\"] = google.colab.output.setActiveOutputArea(window[\"aed999c2-a97f-11eb-a006-0242ac1c0002\"]);\n",
              "//# sourceURL=js_4ea553ff26"
            ],
            "text/plain": [
              "<IPython.core.display.Javascript object>"
            ]
          },
          "metadata": {
            "tags": [
              "id1_content_3",
              "outputarea_id1"
            ]
          }
        },
        {
          "output_type": "display_data",
          "data": {
            "application/javascript": [
              "window[\"af5c0402-a97f-11eb-a006-0242ac1c0002\"] = google.colab.output.getActiveOutputArea();\n",
              "//# sourceURL=js_4cd6ba70e6"
            ],
            "text/plain": [
              "<IPython.core.display.Javascript object>"
            ]
          },
          "metadata": {
            "tags": [
              "id1_content_0",
              "outputarea_id1"
            ]
          }
        },
        {
          "output_type": "display_data",
          "data": {
            "application/javascript": [
              "window[\"af5c5a9c-a97f-11eb-a006-0242ac1c0002\"] = document.querySelector(\"#id1_content_0\");\n",
              "//# sourceURL=js_7efb55ebbc"
            ],
            "text/plain": [
              "<IPython.core.display.Javascript object>"
            ]
          },
          "metadata": {
            "tags": [
              "id1_content_0",
              "outputarea_id1"
            ]
          }
        },
        {
          "output_type": "display_data",
          "data": {
            "application/javascript": [
              "window[\"af5caf92-a97f-11eb-a006-0242ac1c0002\"] = google.colab.output.setActiveOutputArea(window[\"af5c5a9c-a97f-11eb-a006-0242ac1c0002\"]);\n",
              "//# sourceURL=js_e1174576ce"
            ],
            "text/plain": [
              "<IPython.core.display.Javascript object>"
            ]
          },
          "metadata": {
            "tags": [
              "id1_content_0",
              "outputarea_id1"
            ]
          }
        },
        {
          "output_type": "display_data",
          "data": {
            "application/javascript": [
              "window[\"af5d008c-a97f-11eb-a006-0242ac1c0002\"] = window[\"id1\"].setSelectedTabIndex(0);\n",
              "//# sourceURL=js_20578561b9"
            ],
            "text/plain": [
              "<IPython.core.display.Javascript object>"
            ]
          },
          "metadata": {
            "tags": [
              "id1_content_0",
              "outputarea_id1"
            ]
          }
        },
        {
          "output_type": "display_data",
          "data": {
            "image/png": "[encoded data removed]",
            "text/plain": [
              "<Figure size 640x240 with 2 Axes>"
            ]
          },
          "metadata": {
            "tags": [
              "id1_content_0",
              "outputarea_id1",
              "user_output"
            ],
            "needs_background": "light"
          }
        },
        {
          "output_type": "display_data",
          "data": {
            "text/html": [
              "<style  type=\"text/css\" >\n",
              "    #T_afca39c2_a97f_11eb_a006_0242ac1c0002 th {\n",
              "          font-size: 120%;\n",
              "          text-align: center;\n",
              "    }#T_afca39c2_a97f_11eb_a006_0242ac1c0002row0_col0,#T_afca39c2_a97f_11eb_a006_0242ac1c0002row0_col1,#T_afca39c2_a97f_11eb_a006_0242ac1c0002row0_col2,#T_afca39c2_a97f_11eb_a006_0242ac1c0002row0_col3,#T_afca39c2_a97f_11eb_a006_0242ac1c0002row0_col4,#T_afca39c2_a97f_11eb_a006_0242ac1c0002row3_col0,#T_afca39c2_a97f_11eb_a006_0242ac1c0002row3_col1,#T_afca39c2_a97f_11eb_a006_0242ac1c0002row3_col2,#T_afca39c2_a97f_11eb_a006_0242ac1c0002row3_col3,#T_afca39c2_a97f_11eb_a006_0242ac1c0002row3_col4,#T_afca39c2_a97f_11eb_a006_0242ac1c0002row4_col0,#T_afca39c2_a97f_11eb_a006_0242ac1c0002row4_col1,#T_afca39c2_a97f_11eb_a006_0242ac1c0002row4_col2,#T_afca39c2_a97f_11eb_a006_0242ac1c0002row4_col3,#T_afca39c2_a97f_11eb_a006_0242ac1c0002row4_col4,#T_afca39c2_a97f_11eb_a006_0242ac1c0002row5_col0,#T_afca39c2_a97f_11eb_a006_0242ac1c0002row5_col1,#T_afca39c2_a97f_11eb_a006_0242ac1c0002row5_col2,#T_afca39c2_a97f_11eb_a006_0242ac1c0002row5_col3,#T_afca39c2_a97f_11eb_a006_0242ac1c0002row5_col4,#T_afca39c2_a97f_11eb_a006_0242ac1c0002row6_col0,#T_afca39c2_a97f_11eb_a006_0242ac1c0002row6_col1,#T_afca39c2_a97f_11eb_a006_0242ac1c0002row6_col2,#T_afca39c2_a97f_11eb_a006_0242ac1c0002row6_col3,#T_afca39c2_a97f_11eb_a006_0242ac1c0002row6_col4,#T_afca39c2_a97f_11eb_a006_0242ac1c0002row7_col0,#T_afca39c2_a97f_11eb_a006_0242ac1c0002row7_col1,#T_afca39c2_a97f_11eb_a006_0242ac1c0002row7_col2,#T_afca39c2_a97f_11eb_a006_0242ac1c0002row7_col3,#T_afca39c2_a97f_11eb_a006_0242ac1c0002row7_col4{\n",
              "            background-color:  honeydew;\n",
              "            color:  black;\n",
              "            text-align:  center;\n",
              "            border-color:  white;\n",
              "        }#T_afca39c2_a97f_11eb_a006_0242ac1c0002row1_col0,#T_afca39c2_a97f_11eb_a006_0242ac1c0002row1_col1,#T_afca39c2_a97f_11eb_a006_0242ac1c0002row1_col2,#T_afca39c2_a97f_11eb_a006_0242ac1c0002row1_col3,#T_afca39c2_a97f_11eb_a006_0242ac1c0002row1_col4,#T_afca39c2_a97f_11eb_a006_0242ac1c0002row2_col0,#T_afca39c2_a97f_11eb_a006_0242ac1c0002row2_col1,#T_afca39c2_a97f_11eb_a006_0242ac1c0002row2_col4{\n",
              "            : ;\n",
              "            background-color:  honeydew;\n",
              "            color:  black;\n",
              "            text-align:  center;\n",
              "            border-color:  white;\n",
              "        }#T_afca39c2_a97f_11eb_a006_0242ac1c0002row2_col2,#T_afca39c2_a97f_11eb_a006_0242ac1c0002row2_col3{\n",
              "            color:  red;\n",
              "            background-color:  honeydew;\n",
              "            color:  black;\n",
              "            text-align:  center;\n",
              "            border-color:  white;\n",
              "        }</style><table id=\"T_afca39c2_a97f_11eb_a006_0242ac1c0002\" ><thead>    <tr>        <th class=\"blank level0\" ></th>        <th class=\"col_heading level0 col0\" >BA</th>        <th class=\"col_heading level0 col1\" >AMZN</th>        <th class=\"col_heading level0 col2\" >AAPL</th>        <th class=\"col_heading level0 col3\" >AAL</th>        <th class=\"col_heading level0 col4\" >GS</th>    </tr></thead><tbody>\n",
              "                <tr>\n",
              "                        <th id=\"T_afca39c2_a97f_11eb_a006_0242ac1c0002level0_row0\" class=\"row_heading level0 row0\" >Participaciones</th>\n",
              "                        <td id=\"T_afca39c2_a97f_11eb_a006_0242ac1c0002row0_col0\" class=\"data row0 col0\" >20.000%</td>\n",
              "                        <td id=\"T_afca39c2_a97f_11eb_a006_0242ac1c0002row0_col1\" class=\"data row0 col1\" >20.000%</td>\n",
              "                        <td id=\"T_afca39c2_a97f_11eb_a006_0242ac1c0002row0_col2\" class=\"data row0 col2\" >20.000%</td>\n",
              "                        <td id=\"T_afca39c2_a97f_11eb_a006_0242ac1c0002row0_col3\" class=\"data row0 col3\" >20.000%</td>\n",
              "                        <td id=\"T_afca39c2_a97f_11eb_a006_0242ac1c0002row0_col4\" class=\"data row0 col4\" >20.000%</td>\n",
              "            </tr>\n",
              "            <tr>\n",
              "                        <th id=\"T_afca39c2_a97f_11eb_a006_0242ac1c0002level0_row1\" class=\"row_heading level0 row1\" >Precio Cierre</th>\n",
              "                        <td id=\"T_afca39c2_a97f_11eb_a006_0242ac1c0002row1_col0\" class=\"data row1 col0\" >235.940</td>\n",
              "                        <td id=\"T_afca39c2_a97f_11eb_a006_0242ac1c0002row1_col1\" class=\"data row1 col1\" >3471.310</td>\n",
              "                        <td id=\"T_afca39c2_a97f_11eb_a006_0242ac1c0002row1_col2\" class=\"data row1 col2\" >133.480</td>\n",
              "                        <td id=\"T_afca39c2_a97f_11eb_a006_0242ac1c0002row1_col3\" class=\"data row1 col3\" >21.300</td>\n",
              "                        <td id=\"T_afca39c2_a97f_11eb_a006_0242ac1c0002row1_col4\" class=\"data row1 col4\" >352.970</td>\n",
              "            </tr>\n",
              "            <tr>\n",
              "                        <th id=\"T_afca39c2_a97f_11eb_a006_0242ac1c0002level0_row2\" class=\"row_heading level0 row2\" >Rendimiento</th>\n",
              "                        <td id=\"T_afca39c2_a97f_11eb_a006_0242ac1c0002row2_col0\" class=\"data row2 col0\" >0.204%</td>\n",
              "                        <td id=\"T_afca39c2_a97f_11eb_a006_0242ac1c0002row2_col1\" class=\"data row2 col1\" >0.370%</td>\n",
              "                        <td id=\"T_afca39c2_a97f_11eb_a006_0242ac1c0002row2_col2\" class=\"data row2 col2\" >-0.075%</td>\n",
              "                        <td id=\"T_afca39c2_a97f_11eb_a006_0242ac1c0002row2_col3\" class=\"data row2 col3\" >-1.861%</td>\n",
              "                        <td id=\"T_afca39c2_a97f_11eb_a006_0242ac1c0002row2_col4\" class=\"data row2 col4\" >1.386%</td>\n",
              "            </tr>\n",
              "            <tr>\n",
              "                        <th id=\"T_afca39c2_a97f_11eb_a006_0242ac1c0002level0_row3\" class=\"row_heading level0 row3\" >Media</th>\n",
              "                        <td id=\"T_afca39c2_a97f_11eb_a006_0242ac1c0002row3_col0\" class=\"data row3 col0\" >-0.001</td>\n",
              "                        <td id=\"T_afca39c2_a97f_11eb_a006_0242ac1c0002row3_col1\" class=\"data row3 col1\" >0.001</td>\n",
              "                        <td id=\"T_afca39c2_a97f_11eb_a006_0242ac1c0002row3_col2\" class=\"data row3 col2\" >0.002</td>\n",
              "                        <td id=\"T_afca39c2_a97f_11eb_a006_0242ac1c0002row3_col3\" class=\"data row3 col3\" >-0.001</td>\n",
              "                        <td id=\"T_afca39c2_a97f_11eb_a006_0242ac1c0002row3_col4\" class=\"data row3 col4\" >0.001</td>\n",
              "            </tr>\n",
              "            <tr>\n",
              "                        <th id=\"T_afca39c2_a97f_11eb_a006_0242ac1c0002level0_row4\" class=\"row_heading level0 row4\" >Desviacion estándar</th>\n",
              "                        <td id=\"T_afca39c2_a97f_11eb_a006_0242ac1c0002row4_col0\" class=\"data row4 col0\" >0.039</td>\n",
              "                        <td id=\"T_afca39c2_a97f_11eb_a006_0242ac1c0002row4_col1\" class=\"data row4 col1\" >0.019</td>\n",
              "                        <td id=\"T_afca39c2_a97f_11eb_a006_0242ac1c0002row4_col2\" class=\"data row4 col2\" >0.023</td>\n",
              "                        <td id=\"T_afca39c2_a97f_11eb_a006_0242ac1c0002row4_col3\" class=\"data row4 col3\" >0.046</td>\n",
              "                        <td id=\"T_afca39c2_a97f_11eb_a006_0242ac1c0002row4_col4\" class=\"data row4 col4\" >0.024</td>\n",
              "            </tr>\n",
              "            <tr>\n",
              "                        <th id=\"T_afca39c2_a97f_11eb_a006_0242ac1c0002level0_row5\" class=\"row_heading level0 row5\" >Mínimo</th>\n",
              "                        <td id=\"T_afca39c2_a97f_11eb_a006_0242ac1c0002row5_col0\" class=\"data row5 col0\" >-0.272</td>\n",
              "                        <td id=\"T_afca39c2_a97f_11eb_a006_0242ac1c0002row5_col1\" class=\"data row5 col1\" >-0.083</td>\n",
              "                        <td id=\"T_afca39c2_a97f_11eb_a006_0242ac1c0002row5_col2\" class=\"data row5 col2\" >-0.138</td>\n",
              "                        <td id=\"T_afca39c2_a97f_11eb_a006_0242ac1c0002row5_col3\" class=\"data row5 col3\" >-0.291</td>\n",
              "                        <td id=\"T_afca39c2_a97f_11eb_a006_0242ac1c0002row5_col4\" class=\"data row5 col4\" >-0.136</td>\n",
              "            </tr>\n",
              "            <tr>\n",
              "                        <th id=\"T_afca39c2_a97f_11eb_a006_0242ac1c0002level0_row6\" class=\"row_heading level0 row6\" >Máximo</th>\n",
              "                        <td id=\"T_afca39c2_a97f_11eb_a006_0242ac1c0002row6_col0\" class=\"data row6 col0\" >0.218</td>\n",
              "                        <td id=\"T_afca39c2_a97f_11eb_a006_0242ac1c0002row6_col1\" class=\"data row6 col1\" >0.076</td>\n",
              "                        <td id=\"T_afca39c2_a97f_11eb_a006_0242ac1c0002row6_col2\" class=\"data row6 col2\" >0.113</td>\n",
              "                        <td id=\"T_afca39c2_a97f_11eb_a006_0242ac1c0002row6_col3\" class=\"data row6 col3\" >0.344</td>\n",
              "                        <td id=\"T_afca39c2_a97f_11eb_a006_0242ac1c0002row6_col4\" class=\"data row6 col4\" >0.162</td>\n",
              "            </tr>\n",
              "            <tr>\n",
              "                        <th id=\"T_afca39c2_a97f_11eb_a006_0242ac1c0002level0_row7\" class=\"row_heading level0 row7\" >Cantidad</th>\n",
              "                        <td id=\"T_afca39c2_a97f_11eb_a006_0242ac1c0002row7_col0\" class=\"data row7 col0\" >585.000</td>\n",
              "                        <td id=\"T_afca39c2_a97f_11eb_a006_0242ac1c0002row7_col1\" class=\"data row7 col1\" >585.000</td>\n",
              "                        <td id=\"T_afca39c2_a97f_11eb_a006_0242ac1c0002row7_col2\" class=\"data row7 col2\" >585.000</td>\n",
              "                        <td id=\"T_afca39c2_a97f_11eb_a006_0242ac1c0002row7_col3\" class=\"data row7 col3\" >585.000</td>\n",
              "                        <td id=\"T_afca39c2_a97f_11eb_a006_0242ac1c0002row7_col4\" class=\"data row7 col4\" >585.000</td>\n",
              "            </tr>\n",
              "    </tbody></table>"
            ],
            "text/plain": [
              "<pandas.io.formats.style.Styler at 0x7f34afef8050>"
            ]
          },
          "metadata": {
            "tags": [
              "id1_content_0",
              "outputarea_id1",
              "user_output"
            ]
          }
        },
        {
          "output_type": "display_data",
          "data": {
            "application/javascript": [
              "window[\"afcca680-a97f-11eb-a006-0242ac1c0002\"] = google.colab.output.setActiveOutputArea(window[\"af5c0402-a97f-11eb-a006-0242ac1c0002\"]);\n",
              "//# sourceURL=js_515e504c65"
            ],
            "text/plain": [
              "<IPython.core.display.Javascript object>"
            ]
          },
          "metadata": {
            "tags": [
              "id1_content_0",
              "outputarea_id1"
            ]
          }
        }
      ]
    },
    {
      "cell_type": "code",
      "metadata": {
        "id": "y7bN2QSjq2wF"
      },
      "source": [
        ""
      ],
      "execution_count": 5,
      "outputs": []
    }
  ]
}